{
 "cells": [
  {
   "cell_type": "code",
   "execution_count": 3,
   "id": "1375ba0d",
   "metadata": {},
   "outputs": [],
   "source": [
    "import numpy as np\n",
    "import random as rd\n",
    "import matplotlib.pyplot as plt\n",
    "import matplotlib"
   ]
  },
  {
   "cell_type": "markdown",
   "id": "8a6480b0",
   "metadata": {},
   "source": [
    "# 1 Apprentissage des paramètres d’un modèle à partir de données"
   ]
  },
  {
   "cell_type": "markdown",
   "id": "0e9fdf24",
   "metadata": {},
   "source": [
    "## Question 1.1.1"
   ]
  },
  {
   "cell_type": "markdown",
   "id": "fe197103",
   "metadata": {},
   "source": [
    "Grace a la séquence d'observation et la formule suivante: $p(x|y)=P(X_i|X_{i-1})$ on peut déduire la Matrice de transition suivante:\n",
    "\n",
    "$$\\begin{matrix}\n",
    "& S & I & R \\\\\n",
    "S & \\frac{2}{3} & \\frac{1}{3} & 0 \\\\\n",
    "I & 0 & \\frac{5}{6} & \\frac{1}{6} \\\\\n",
    "R & 0 & 0 & 1\n",
    "\\end{matrix}$$\n",
    "\n",
    "\n"
   ]
  },
  {
   "cell_type": "markdown",
   "id": "ac9a47f3",
   "metadata": {},
   "source": [
    "## Question 1.2.1"
   ]
  },
  {
   "cell_type": "code",
   "execution_count": 4,
   "id": "96d7a61a",
   "metadata": {},
   "outputs": [],
   "source": [
    "#lire les données\n",
    "data = np.loadtxt('data_exo_2022.txt',dtype=int)"
   ]
  },
  {
   "cell_type": "markdown",
   "id": "29b5aa52",
   "metadata": {},
   "source": [
    "## Question 1.2.2"
   ]
  },
  {
   "cell_type": "code",
   "execution_count": 5,
   "id": "8608d63a",
   "metadata": {},
   "outputs": [
    {
     "name": "stdout",
     "output_type": "stream",
     "text": [
      "[[0.93082918 0.06917082 0.        ]\n",
      " [0.         0.93518148 0.06481852]\n",
      " [0.04065945 0.         0.95934055]]\n"
     ]
    }
   ],
   "source": [
    "matrice_transitions = np.zeros((3,3))\n",
    "\n",
    "#Compte le nombre de transitions entre chaque états\n",
    "for individu in data :\n",
    "    for i in range(0, len(individu) - 1) :\n",
    "        matrice_transitions[individu[i]][individu[i + 1]] += 1\n",
    "\n",
    "#Calcule la probabilité de transition entre les états\n",
    "for l in range(0, len(matrice_transitions)) :\n",
    "    somme_ligne = sum(matrice_transitions[l])\n",
    "    for c in range(0, len(matrice_transitions[l])) :\n",
    "        matrice_transitions[l][c] = matrice_transitions[l][c] / somme_ligne\n",
    "\n",
    "print(matrice_transitions)"
   ]
  },
  {
   "cell_type": "markdown",
   "id": "b3c1490f",
   "metadata": {},
   "source": [
    "# 2 Description du premier modèle"
   ]
  },
  {
   "cell_type": "markdown",
   "id": "835d3048",
   "metadata": {},
   "source": [
    "## Question 2.1.1"
   ]
  },
  {
   "cell_type": "markdown",
   "id": "35ffbede",
   "metadata": {},
   "source": [
    "A partir du graphe de transition, la matrice de transition A est la suivante:\n",
    "$$\\begin{matrix}\n",
    " & S & I & R \\\\\n",
    "S & 0.92 & 0.08 & 0 \\\\\n",
    "I & 0 & 0.93 & 0.07 \\\\\n",
    "R & 0 & 0 & 1 \n",
    "\\end{matrix}$$"
   ]
  },
  {
   "cell_type": "code",
   "execution_count": 14,
   "id": "64045b01",
   "metadata": {},
   "outputs": [
    {
     "ename": "NameError",
     "evalue": "name 'e10' is not defined",
     "output_type": "error",
     "traceback": [
      "\u001b[1;31m---------------------------------------------------------------------------\u001b[0m",
      "\u001b[1;31mNameError\u001b[0m                                 Traceback (most recent call last)",
      "\u001b[1;32m~\\AppData\\Local\\Temp\\ipykernel_19896\\1365889778.py\u001b[0m in \u001b[0;36m<module>\u001b[1;34m\u001b[0m\n\u001b[0;32m     12\u001b[0m   \u001b[1;32mreturn\u001b[0m \u001b[1;32mTrue\u001b[0m\u001b[1;33m\u001b[0m\u001b[1;33m\u001b[0m\u001b[0m\n\u001b[0;32m     13\u001b[0m \u001b[1;33m\u001b[0m\u001b[0m\n\u001b[1;32m---> 14\u001b[1;33m \u001b[0mprint\u001b[0m\u001b[1;33m(\u001b[0m\u001b[0mverifie_matrice_stochastique\u001b[0m\u001b[1;33m(\u001b[0m\u001b[0mmatrice_transitions\u001b[0m\u001b[1;33m)\u001b[0m\u001b[1;33m)\u001b[0m\u001b[1;33m\u001b[0m\u001b[1;33m\u001b[0m\u001b[0m\n\u001b[0m",
      "\u001b[1;32m~\\AppData\\Local\\Temp\\ipykernel_19896\\1365889778.py\u001b[0m in \u001b[0;36mverifie_matrice_stochastique\u001b[1;34m(matrix)\u001b[0m\n\u001b[0;32m      7\u001b[0m \u001b[1;31m#check si somme = 1\u001b[0m\u001b[1;33m\u001b[0m\u001b[1;33m\u001b[0m\u001b[0m\n\u001b[0;32m      8\u001b[0m   \u001b[1;32mfor\u001b[0m \u001b[0mi\u001b[0m \u001b[1;32min\u001b[0m \u001b[0mrange\u001b[0m\u001b[1;33m(\u001b[0m\u001b[0mmatrix\u001b[0m\u001b[1;33m.\u001b[0m\u001b[0mshape\u001b[0m\u001b[1;33m[\u001b[0m\u001b[1;36m0\u001b[0m\u001b[1;33m]\u001b[0m\u001b[1;33m)\u001b[0m\u001b[1;33m:\u001b[0m\u001b[1;33m\u001b[0m\u001b[1;33m\u001b[0m\u001b[0m\n\u001b[1;32m----> 9\u001b[1;33m     \u001b[1;32mif\u001b[0m \u001b[1;33m(\u001b[0m\u001b[0mnp\u001b[0m\u001b[1;33m.\u001b[0m\u001b[0msum\u001b[0m\u001b[1;33m(\u001b[0m\u001b[0mmatrix\u001b[0m\u001b[1;33m[\u001b[0m\u001b[0mi\u001b[0m\u001b[1;33m,\u001b[0m \u001b[1;33m:\u001b[0m\u001b[1;33m]\u001b[0m\u001b[1;33m)\u001b[0m \u001b[1;33m-\u001b[0m\u001b[1;36m1\u001b[0m\u001b[1;33m)\u001b[0m\u001b[1;33m>\u001b[0m\u001b[1;36m1\u001b[0m\u001b[1;33m-\u001b[0m\u001b[0me10\u001b[0m\u001b[1;33m:\u001b[0m\u001b[1;33m\u001b[0m\u001b[1;33m\u001b[0m\u001b[0m\n\u001b[0m\u001b[0;32m     10\u001b[0m         \u001b[1;32mreturn\u001b[0m \u001b[1;32mFalse\u001b[0m\u001b[1;33m\u001b[0m\u001b[1;33m\u001b[0m\u001b[0m\n\u001b[0;32m     11\u001b[0m \u001b[1;33m\u001b[0m\u001b[0m\n",
      "\u001b[1;31mNameError\u001b[0m: name 'e10' is not defined"
     ]
    }
   ],
   "source": [
    "def verifie_matrice_stochastique(matrix):\n",
    "  # si matrice n'est pas carre\n",
    "  if matrix.shape[0] != matrix.shape[1]:\n",
    "    return False\n",
    "  if not np.all(matrix >= 0):\n",
    "    return False\n",
    "#check si somme = 1\n",
    "  for i in range(matrix.shape[0]):\n",
    "    if (np.sum(matrix[i, :]) -1)>1-e10:\n",
    "        return False       \n",
    "  \n",
    "  return True\n",
    "\n",
    "print(verifie_matrice_stochastique(matrice_transitions))"
   ]
  },
  {
   "cell_type": "markdown",
   "id": "b3ef3bb4",
   "metadata": {},
   "source": [
    "## Question 2.1.2\n",
    "\n",
    "D'apres l'énoncé,au temps t = 0, un individu a une probabilité de 0.9 d’être sain et 0.1 d’être infecté.\n",
    "\n",
    "On a donc le vecteur de distribution initiale suivant: $\\pi_0 = (0.9, 0.1, 0)$"
   ]
  },
  {
   "cell_type": "markdown",
   "id": "b9b5c592",
   "metadata": {},
   "source": [
    "## Distribution $π_t$\n",
    "\n",
    "## Question 1\n",
    "\n",
    "On suppose que la chaîne de Markov est homogène. On a donc:\\\n",
    "$\\pi_t$ = $\\pi_{t-1} * A$\\\n",
    "\\\n",
    "$\\pi_1 = \\pi_0 * A = (0.828, 0.165, 0.007)$\n",
    "\n",
    "## Question 2\n",
    "\n",
    "$\\pi_2 = \\pi_1 * A = (0.76176, 0.21969, 0.01855)$\n"
   ]
  },
  {
   "cell_type": "markdown",
   "id": "8cc0cd26",
   "metadata": {},
   "source": [
    "## Question 3\n",
    "\n",
    "$\\pi_{t+1} = \\pi_t * A$"
   ]
  },
  {
   "cell_type": "code",
   "execution_count": 7,
   "id": "7af7a303",
   "metadata": {},
   "outputs": [
    {
     "data": {
      "image/png": "[encoded data removed]",
      "text/plain": [
       "<Figure size 640x480 with 1 Axes>"
      ]
     },
     "metadata": {},
     "output_type": "display_data"
    }
   ],
   "source": [
    "pi_0 = np.array([0.9, 0.1, 0])\n",
    "A = np.array([[0.92, 0.08, 0],[0, 0.93, 0.07],[0, 0, 1]])\n",
    "pi_liste = [pi_0]\n",
    "\n",
    "for i in range(0, 200):\n",
    "    pi_0 = np.dot(pi_0, A)\n",
    "    pi_liste.append(pi_0)\n",
    "    \n",
    "plt.plot(pi_liste)\n",
    "plt.legend(('etat S','etat I','etat R'))\n",
    "plt.xlabel('temps')\n",
    "plt.ylabel('probabilité')\n",
    "plt.show()"
   ]
  },
  {
   "cell_type": "markdown",
   "id": "55364a52",
   "metadata": {},
   "source": [
    "D'après le graphique, on voit que le nombre de personnes infectées atteint un maximum à environ 10 jours. A 100 jours, la probabilité d'être guéri tend vers 1 (donc tout le monde est guéri), et la probabilité d'être infecté ou sain tend vers 0 (donc personne n'est infecté)."
   ]
  },
  {
   "cell_type": "markdown",
   "id": "bf7a41f2",
   "metadata": {},
   "source": [
    "## Tirage aléatoire des états"
   ]
  },
  {
   "cell_type": "code",
   "execution_count": 8,
   "id": "65746b98",
   "metadata": {},
   "outputs": [],
   "source": [
    "def genere_seq_alea(matrice,pi_0,T):\n",
    "    t0 = rd.random()\n",
    "    if t0 < pi_0[0] :\n",
    "        t0 = 0\n",
    "    else:\n",
    "        t0 = 1\n",
    "    sequence=[t0]\n",
    "    \n",
    "    for i in range(0,T+1):\n",
    "        etat_precedent=sequence[i-1]\n",
    "        proba=matrice[etat_precedent]\n",
    "        etat_present=rd.random()\n",
    "        \n",
    "        if etat_present < proba[0]:\n",
    "            sequence.append(0)\n",
    "        elif etat_present < proba[0] + proba[1]:\n",
    "            sequence.append(1)\n",
    "        else:\n",
    "            sequence.append(2)\n",
    "            \n",
    "    return sequence"
   ]
  },
  {
   "cell_type": "code",
   "execution_count": 9,
   "id": "d1d40f80",
   "metadata": {},
   "outputs": [
    {
     "name": "stdout",
     "output_type": "stream",
     "text": [
      "[1, 1, 1, 1, 1, 1, 1, 1, 1, 1, 1, 1, 1, 2, 1, 2, 2, 2, 2, 2, 2, 2, 2, 2, 2, 2, 2, 2, 2, 2, 2, 2, 2, 2, 2, 2, 2, 2, 2, 2, 2, 2, 2, 2, 2, 2, 2, 2, 2, 2, 2, 2, 2, 2, 2, 2, 2, 2, 2, 2, 2, 2, 2, 2, 2, 2, 2, 2, 2, 2, 2, 2, 2, 2, 2, 2, 2, 2, 2, 2, 2, 2, 2, 2, 2, 2, 2, 2, 2, 2, 2, 2, 2, 2, 2, 2, 2, 2, 2, 2, 2, 2, 2, 2, 2, 2, 2, 2, 2, 2, 2, 2, 2, 2, 2, 2, 2, 2, 2, 2, 2, 2, 2, 2, 2, 2, 2, 2, 2, 2, 2, 2, 2, 2, 2, 2, 2, 2, 2, 2, 2, 2, 2, 2, 2, 2, 2, 2, 2, 2, 2, 2]\n"
     ]
    }
   ],
   "source": [
    "etats={0:\"S\",1:\"I\",2:\"R\"}\n",
    "sequence = genere_seq_alea(A,pi_0,150)\n",
    "print(sequence)\n",
    "#for state in sequence:\n",
    " #   print(etats[state])"
   ]
  },
  {
   "cell_type": "code",
   "execution_count": 16,
   "id": "796da2cf",
   "metadata": {},
   "outputs": [],
   "source": [
    "def compter_population(matrice,pi_0,T,nbrIndividu):\n",
    "    liste_seq=[]\n",
    "    for i in range(nbrIndividu):\n",
    "        liste_seq.append(genere_seq_alea(matrice,pi_0,T))\n",
    "    liste_nb_etat=[]\n",
    "    for i in range(T):\n",
    "        temps_i=[0,0,0]\n",
    "        for j in range(nbrIndividu):\n",
    "            etat_personnej=liste_seq[j][i]\n",
    "            temps_i[etat_personnej]+=1\n",
    "        print(\"A \" + str(i) + \" jours: \")\n",
    "        print(\"Pourcentage de population sains: \" + str(temps_i[0]/nbrIndividu*100))\n",
    "        print(\"Pourcentage de population infectés: \" + str(temps_i[1]/nbrIndividu*100))\n",
    "        print(\"Pourcentage de population guéris: \" + str(temps_i[2]/nbrIndividu*100))\n",
    "        liste_nb_etat.append(temps_i)\n",
    "    plt.plot(liste_nb_etat)\n",
    "    plt.legend(('etat S','etat I','etat R'))\n",
    "    plt.xlabel('temps')\n",
    "    plt.ylabel('nombre d\\'individu')\n",
    "    plt.show()\n",
    "    return None"
   ]
  },
  {
   "cell_type": "markdown",
   "id": "8fbb2fae",
   "metadata": {},
   "source": [
    "# 3 Description du second modele\n"
   ]
  },
  {
   "cell_type": "markdown",
   "id": "56be9346",
   "metadata": {},
   "source": [
    "## Analyse du modele\n"
   ]
  },
  {
   "cell_type": "markdown",
   "id": "6fe073e2",
   "metadata": {},
   "source": [
    "### Question 1\n"
   ]
  },
  {
   "cell_type": "markdown",
   "id": "15f6264a",
   "metadata": {},
   "source": [
    "Ce processus peut effectivement etre modelise par une chaine de markov car le processus est homogene, on a un nombre d'états fini et état t+1 depend que de t.\n"
   ]
  },
  {
   "cell_type": "markdown",
   "id": "1a22ac94",
   "metadata": {},
   "source": [
    "### Question 2"
   ]
  },
  {
   "cell_type": "markdown",
   "id": "6950a72a",
   "metadata": {},
   "source": [
    "\n",
    "\n",
    "$$\\begin{matrix}\n",
    "& S & I & R \\\\\n",
    "S & 0.92 & 0.08 & 0 \\\\\n",
    "I & 0 & 0.93 & 0.07 \\\\\n",
    "R & 0.02 & 0 & 0.98\n",
    "\\end{matrix}$$\n",
    "\n"
   ]
  },
  {
   "cell_type": "markdown",
   "id": "82453def",
   "metadata": {},
   "source": [
    "### Question 3"
   ]
  },
  {
   "cell_type": "markdown",
   "id": "cc5a418e",
   "metadata": {},
   "source": [
    "Ce modèle n'est pas périodique, mais irréductible"
   ]
  },
  {
   "cell_type": "markdown",
   "id": "70253453",
   "metadata": {},
   "source": [
    "### Question 4"
   ]
  },
  {
   "cell_type": "markdown",
   "id": "39398892",
   "metadata": {},
   "source": [
    "la matrice AxA correspond a une matrice de transition au temps t+2"
   ]
  },
  {
   "cell_type": "code",
   "execution_count": 11,
   "id": "ed74cdba",
   "metadata": {},
   "outputs": [
    {
     "name": "stdout",
     "output_type": "stream",
     "text": [
      "[[0.8464 0.148  0.0056]\n",
      " [0.0014 0.8649 0.1337]\n",
      " [0.038  0.0016 0.9604]]\n",
      "Est elle stochastique? True\n"
     ]
    }
   ],
   "source": [
    "A = np.array([[0.92, 0.08, 0],[0, 0.93, 0.07],[0.02, 0, 0.98]])\n",
    "A2= np.dot(A,A)\n",
    "print(A2)\n",
    "print(\"Est elle stochastique?\", verifie_matrice_stochastique(A2))"
   ]
  },
  {
   "cell_type": "markdown",
   "id": "d4ce0670",
   "metadata": {},
   "source": [
    "la matrice $A^3$ correspond a une matrice de transition au temps t+3\n",
    "\n"
   ]
  },
  {
   "cell_type": "code",
   "execution_count": 13,
   "id": "e9e2950a",
   "metadata": {},
   "outputs": [
    {
     "name": "stdout",
     "output_type": "stream",
     "text": [
      "[[0.7788   0.205352 0.015848]\n",
      " [0.003962 0.804469 0.191569]\n",
      " [0.054168 0.004528 0.941304]]\n",
      "Est elle stochastique? False\n"
     ]
    }
   ],
   "source": [
    "\n",
    "A3= np.dot(A2,A)\n",
    "print(A3)\n",
    "print(\"Est elle stochastique?\", verifie_matrice_stochastique(A3))"
   ]
  },
  {
   "cell_type": "markdown",
   "id": "eac14cec",
   "metadata": {},
   "source": [
    "### Question 5"
   ]
  },
  {
   "cell_type": "markdown",
   "id": "f996d06f",
   "metadata": {},
   "source": [
    "### Question 6"
   ]
  },
  {
   "cell_type": "markdown",
   "id": "f839f2d2",
   "metadata": {},
   "source": [
    "### Question 7"
   ]
  },
  {
   "cell_type": "code",
   "execution_count": null,
   "id": "86bae782",
   "metadata": {},
   "outputs": [],
   "source": []
  }
 ],
 "metadata": {
  "kernelspec": {
   "display_name": "Python 3 (ipykernel)",
   "language": "python",
   "name": "python3"
  },
  "language_info": {
   "codemirror_mode": {
    "name": "ipython",
    "version": 3
   },
   "file_extension": ".py",
   "mimetype": "text/x-python",
   "name": "python",
   "nbconvert_exporter": "python",
   "pygments_lexer": "ipython3",
   "version": "3.9.13"
  }
 },
 "nbformat": 4,
 "nbformat_minor": 5
}
