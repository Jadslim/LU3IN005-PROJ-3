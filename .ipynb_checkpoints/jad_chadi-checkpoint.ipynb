{
 "cells": [
  {
   "cell_type": "code",
   "execution_count": 2,
   "id": "1375ba0d",
   "metadata": {},
   "outputs": [],
   "source": [
    "import numpy as np\n",
    "import random as rd\n",
    "import matplotlib.pyplot as plt\n",
    "import matplotlib"
   ]
  },
  {
   "cell_type": "markdown",
   "id": "8a6480b0",
   "metadata": {},
   "source": [
    "# 1 Apprentissage des paramètres d’un modèle à partir de données"
   ]
  },
  {
   "cell_type": "markdown",
   "id": "0e9fdf24",
   "metadata": {},
   "source": [
    "## Question 1.1.1"
   ]
  },
  {
   "cell_type": "markdown",
   "id": "fe197103",
   "metadata": {},
   "source": [
    "Grace a la séquence d'observation et la formule suivante: $p(x|y)=P(X_i|X_{i-1})$ on peut déduire la Matrice de transition suivante:\n",
    "\n",
    "$$\\begin{matrix}\n",
    "& S & I & R \\\\\n",
    "S & \\frac{2}{3} & \\frac{1}{3} & 0 \\\\\n",
    "I & 0 & \\frac{5}{6} & \\frac{1}{6} \\\\\n",
    "R & 0 & 0 & 1\n",
    "\\end{matrix}$$\n",
    "\n",
    "\n"
   ]
  },
  {
   "cell_type": "markdown",
   "id": "ac9a47f3",
   "metadata": {},
   "source": [
    "## Question 1.2.1"
   ]
  },
  {
   "cell_type": "code",
   "execution_count": 3,
   "id": "96d7a61a",
   "metadata": {},
   "outputs": [],
   "source": [
    "#lire les données\n",
    "data = np.loadtxt('data_exo_2022.txt',dtype=int)"
   ]
  },
  {
   "cell_type": "markdown",
   "id": "29b5aa52",
   "metadata": {},
   "source": [
    "## Question 1.2.2"
   ]
  },
  {
   "cell_type": "code",
   "execution_count": 4,
   "id": "8608d63a",
   "metadata": {},
   "outputs": [
    {
     "name": "stdout",
     "output_type": "stream",
     "text": [
      "[[0.93082918 0.06917082 0.        ]\n",
      " [0.         0.93518148 0.06481852]\n",
      " [0.04065945 0.         0.95934055]]\n"
     ]
    }
   ],
   "source": [
    "matrice_transitions = np.zeros((3,3))\n",
    "\n",
    "#Compte le nombre de transitions entre chaque états\n",
    "for individu in data :\n",
    "    for i in range(0, len(individu) - 1) :\n",
    "        matrice_transitions[individu[i]][individu[i + 1]] += 1\n",
    "\n",
    "#Calcule la probabilité de transition entre les états\n",
    "for l in range(0, len(matrice_transitions)) :\n",
    "    somme_ligne = sum(matrice_transitions[l])\n",
    "    for c in range(0, len(matrice_transitions[l])) :\n",
    "        matrice_transitions[l][c] = matrice_transitions[l][c] / somme_ligne\n",
    "\n",
    "print(matrice_transitions)"
   ]
  },
  {
   "cell_type": "markdown",
   "id": "b3c1490f",
   "metadata": {},
   "source": [
    "# 2 Description du premier modèle"
   ]
  },
  {
   "cell_type": "markdown",
   "id": "835d3048",
   "metadata": {},
   "source": [
    "## Question 2.1.1"
   ]
  },
  {
   "cell_type": "markdown",
   "id": "35ffbede",
   "metadata": {},
   "source": [
    "A partir du graphe de transition, la matrice de transition A est la suivante:\n",
    "$$\\begin{matrix}\n",
    " & S & I & R \\\\\n",
    "S & 0.92 & 0.08 & 0 \\\\\n",
    "I & 0 & 0.93 & 0.07 \\\\\n",
    "R & 0 & 0 & 1 \n",
    "\\end{matrix}$$"
   ]
  },
  {
   "cell_type": "code",
   "execution_count": 5,
   "id": "64045b01",
   "metadata": {},
   "outputs": [
    {
     "name": "stdout",
     "output_type": "stream",
     "text": [
      "True\n"
     ]
    }
   ],
   "source": [
    "def verifie_matrice_stochastique(matrix):\n",
    "  # si matrice n'est pas carre\n",
    "  if matrix.shape[0] != matrix.shape[1]:\n",
    "    return False\n",
    "  if not np.all(matrix >= 0):\n",
    "    return False\n",
    "#check si somme = 1\n",
    "  for i in range(matrix.shape[0]):\n",
    "    if (np.sum(matrix[i, :]) -1)>1e-10:\n",
    "        return False       \n",
    "  \n",
    "  return True\n",
    "\n",
    "print(verifie_matrice_stochastique(matrice_transitions))"
   ]
  },
  {
   "cell_type": "markdown",
   "id": "b3ef3bb4",
   "metadata": {},
   "source": [
    "## Question 2.1.2\n",
    "\n",
    "D'apres l'énoncé,au temps t = 0, un individu a une probabilité de 0.9 d’être sain et 0.1 d’être infecté.\n",
    "\n",
    "On a donc le vecteur de distribution initiale suivant: $\\pi_0 = (0.9, 0.1, 0)$"
   ]
  },
  {
   "cell_type": "markdown",
   "id": "b9b5c592",
   "metadata": {},
   "source": [
    "## Distribution $π_t$\n",
    "\n",
    "## Question 1\n",
    "\n",
    "On suppose que la chaîne de Markov est homogène. On a donc:\\\n",
    "$\\pi_t$ = $\\pi_{t-1} * A$\\\n",
    "\\\n",
    "$\\pi_1 = \\pi_0 * A = (0.828, 0.165, 0.007)$\n",
    "\n",
    "## Question 2\n",
    "\n",
    "$\\pi_2 = \\pi_1 * A = (0.76176, 0.21969, 0.01855)$\n"
   ]
  },
  {
   "cell_type": "markdown",
   "id": "8cc0cd26",
   "metadata": {},
   "source": [
    "## Question 3\n",
    "\n",
    "$\\pi_{t+1} = \\pi_t * A$"
   ]
  },
  {
   "cell_type": "code",
   "execution_count": 6,
   "id": "7af7a303",
   "metadata": {},
   "outputs": [
    {
     "data": {
      "image/png": "[encoded data removed]",
      "text/plain": [
       "<Figure size 432x288 with 1 Axes>"
      ]
     },
     "metadata": {
      "needs_background": "light"
     },
     "output_type": "display_data"
    }
   ],
   "source": [
    "pi_0 = np.array([0.9, 0.1, 0])\n",
    "A = np.array([[0.92, 0.08, 0],[0, 0.93, 0.07],[0, 0, 1]])\n",
    "pi_liste = [pi_0]\n",
    "\n",
    "for i in range(0, 200):\n",
    "    pi_0 = np.dot(pi_0, A)\n",
    "    pi_liste.append(pi_0)\n",
    "    \n",
    "pi_0 = np.array([0.9, 0.1, 0])\n",
    "plt.plot(pi_liste)\n",
    "plt.legend(('etat S','etat I','etat R'))\n",
    "plt.xlabel('temps')\n",
    "plt.ylabel('probabilité')\n",
    "plt.show()"
   ]
  },
  {
   "cell_type": "markdown",
   "id": "55364a52",
   "metadata": {},
   "source": [
    "D'après le graphique, on voit que le nombre de personnes infectées atteint un maximum à environ 10 jours. A 100 jours, la probabilité d'être guéri tend vers 1 (donc tout le monde est guéri), et la probabilité d'être infecté ou sain tend vers 0 (donc personne n'est infecté)."
   ]
  },
  {
   "cell_type": "markdown",
   "id": "bf7a41f2",
   "metadata": {},
   "source": [
    "## Tirage aléatoire des états"
   ]
  },
  {
   "cell_type": "code",
   "execution_count": 7,
   "id": "65746b98",
   "metadata": {},
   "outputs": [],
   "source": [
    "def genere_seq_alea(matrice,pi_0,T):\n",
    "    t0 = rd.random()\n",
    "    if t0 < pi_0[0] :\n",
    "        t0 = 0\n",
    "    else:\n",
    "        t0 = 1\n",
    "    sequence=[t0]\n",
    "    \n",
    "    for i in range(1,T):\n",
    "        etat_precedent=sequence[i-1]\n",
    "        proba=matrice[etat_precedent]\n",
    "        etat_present=rd.random()\n",
    "        \n",
    "        if etat_present < proba[0]:\n",
    "            sequence.append(0)\n",
    "        elif etat_present < proba[0] + proba[1]:\n",
    "            sequence.append(1)\n",
    "        else:\n",
    "            sequence.append(2)\n",
    "            \n",
    "    return sequence"
   ]
  },
  {
   "cell_type": "code",
   "execution_count": 17,
   "id": "d1d40f80",
   "metadata": {},
   "outputs": [
    {
     "name": "stdout",
     "output_type": "stream",
     "text": [
      "[0, 0, 0, 0, 0, 0, 0, 0, 0, 0, 0, 0, 0, 1, 1, 1, 1, 2, 2, 2, 2, 2, 2, 2, 2, 2, 2, 2, 2, 2, 2, 2, 2, 2, 2, 2, 2, 2, 2, 2, 2, 2, 2, 2, 2, 2, 2, 2, 2, 2, 2, 2, 2, 2, 2, 2, 2, 2, 2, 2, 2, 2, 2, 2, 2, 2, 2, 2, 2, 2, 2, 2, 2, 2, 2, 2, 2, 2, 2, 2, 2, 2, 2, 2, 2, 2, 2, 2, 2, 2, 2, 2, 2, 2, 2, 2, 2, 2, 2, 2, 2, 2, 2, 2, 2, 2, 2, 2, 2, 2, 2, 2, 2, 2, 2, 2, 2, 2, 2, 2, 2, 2, 2, 2, 2, 2, 2, 2, 2, 2, 2, 2, 2, 2, 2, 2, 2, 2, 2, 2, 2, 2, 2, 2, 2, 2, 2, 2, 2, 2]\n"
     ]
    }
   ],
   "source": [
    "etats={0:\"S\",1:\"I\",2:\"R\"}\n",
    "sequence = genere_seq_alea(A,pi_0,150)\n",
    "print(sequence)\n"
   ]
  },
  {
   "cell_type": "code",
   "execution_count": 8,
   "id": "796da2cf",
   "metadata": {},
   "outputs": [],
   "source": [
    "def compter_population(matrice,pi_0,T,nbrIndividu,afficher=True,graphe=True,retourner=True):\n",
    "    \"\"\"\n",
    "    affiche le nombre et le pourcentage d'individu de\n",
    "    chaque etat de chaque jour\n",
    "    \"\"\"\n",
    "    liste_seq=[]\n",
    "    for i in range(nbrIndividu):\n",
    "        liste_seq.append(genere_seq_alea(matrice,pi_0,T))\n",
    "    liste_nb_etat=[]\n",
    "    for i in range(T):\n",
    "        temps_i=[0,0,0]\n",
    "        for j in range(nbrIndividu):\n",
    "            etat_personnej=liste_seq[j][i]\n",
    "            temps_i[etat_personnej]+=1\n",
    "        if afficher:\n",
    "            print(\"À \" + str(i) + \" jours: \\n\")\n",
    "            print(\"Nombre d'individu sains: \" + str(temps_i[0]) + \", Pourcentage de population sains: \" + str(temps_i[0]/nbrIndividu*100) + \"%\")\n",
    "            print(\"Nombre d'individu infectés: \" + str(temps_i[1])+ \", Pourcentage de population infectés: \" + str(temps_i[1]/nbrIndividu*100)+\"%\")\n",
    "            print(\"Nombre d'individu guéris: \" + str(temps_i[2]) + \", Pourcentage de population guéris: \" + str(temps_i[2]/nbrIndividu*100)+\"%\")\n",
    "            print(\"\")\n",
    "        liste_nb_etat.append(temps_i)\n",
    "    if graphe:\n",
    "        plt.plot(liste_nb_etat)\n",
    "        plt.legend(('etat S','etat I','etat R'))\n",
    "        plt.xlabel('temps')\n",
    "        plt.ylabel(\"nombre d\\'individu\")\n",
    "        plt.title(\"Distribution d\\'une population de \"+ str(nbrIndividu) + \" individus dans \" + str(T) + \" jours\")\n",
    "        plt.show()\n",
    "    if retourner:\n",
    "        return liste_seq"
   ]
  },
  {
   "cell_type": "code",
   "execution_count": 19,
   "metadata": {},
   "outputs": [
    {
     "name": "stdout",
     "output_type": "stream",
     "text": [
      "À 0 jours: \n",
      "\n",
      "Nombre d'individu sains: 181, Pourcentage de population sains: 90.5%\n",
      "Nombre d'individu infectés: 19, Pourcentage de population infectés: 9.5%\n",
      "Nombre d'individu guéris: 0, Pourcentage de population guéris: 0.0%\n",
      "\n",
      "À 1 jours: \n",
      "\n",
      "Nombre d'individu sains: 169, Pourcentage de population sains: 84.5%\n",
      "Nombre d'individu infectés: 31, Pourcentage de population infectés: 15.5%\n",
      "Nombre d'individu guéris: 0, Pourcentage de population guéris: 0.0%\n",
      "\n",
      "À 2 jours: \n",
      "\n",
      "Nombre d'individu sains: 155, Pourcentage de population sains: 77.5%\n",
      "Nombre d'individu infectés: 44, Pourcentage de population infectés: 22.0%\n",
      "Nombre d'individu guéris: 1, Pourcentage de population guéris: 0.5%\n",
      "\n",
      "À 3 jours: \n",
      "\n",
      "Nombre d'individu sains: 144, Pourcentage de population sains: 72.0%\n",
      "Nombre d'individu infectés: 53, Pourcentage de population infectés: 26.5%\n",
      "Nombre d'individu guéris: 3, Pourcentage de population guéris: 1.5%\n",
      "\n",
      "À 4 jours: \n",
      "\n",
      "Nombre d'individu sains: 131, Pourcentage de population sains: 65.5%\n",
      "Nombre d'individu infectés: 62, Pourcentage de population infectés: 31.0%\n",
      "Nombre d'individu guéris: 7, Pourcentage de population guéris: 3.5000000000000004%\n",
      "\n",
      "À 5 jours: \n",
      "\n",
      "Nombre d'individu sains: 121, Pourcentage de population sains: 60.5%\n",
      "Nombre d'individu infectés: 66, Pourcentage de population infectés: 33.0%\n",
      "Nombre d'individu guéris: 13, Pourcentage de population guéris: 6.5%\n",
      "\n",
      "À 6 jours: \n",
      "\n",
      "Nombre d'individu sains: 112, Pourcentage de population sains: 56.00000000000001%\n",
      "Nombre d'individu infectés: 72, Pourcentage de population infectés: 36.0%\n",
      "Nombre d'individu guéris: 16, Pourcentage de population guéris: 8.0%\n",
      "\n",
      "À 7 jours: \n",
      "\n",
      "Nombre d'individu sains: 102, Pourcentage de population sains: 51.0%\n",
      "Nombre d'individu infectés: 78, Pourcentage de population infectés: 39.0%\n",
      "Nombre d'individu guéris: 20, Pourcentage de population guéris: 10.0%\n",
      "\n",
      "À 8 jours: \n",
      "\n",
      "Nombre d'individu sains: 96, Pourcentage de population sains: 48.0%\n",
      "Nombre d'individu infectés: 77, Pourcentage de population infectés: 38.5%\n",
      "Nombre d'individu guéris: 27, Pourcentage de population guéris: 13.5%\n",
      "\n",
      "À 9 jours: \n",
      "\n",
      "Nombre d'individu sains: 81, Pourcentage de population sains: 40.5%\n",
      "Nombre d'individu infectés: 87, Pourcentage de population infectés: 43.5%\n",
      "Nombre d'individu guéris: 32, Pourcentage de population guéris: 16.0%\n",
      "\n",
      "À 10 jours: \n",
      "\n",
      "Nombre d'individu sains: 74, Pourcentage de population sains: 37.0%\n",
      "Nombre d'individu infectés: 87, Pourcentage de population infectés: 43.5%\n",
      "Nombre d'individu guéris: 39, Pourcentage de population guéris: 19.5%\n",
      "\n",
      "À 11 jours: \n",
      "\n",
      "Nombre d'individu sains: 67, Pourcentage de population sains: 33.5%\n",
      "Nombre d'individu infectés: 86, Pourcentage de population infectés: 43.0%\n",
      "Nombre d'individu guéris: 47, Pourcentage de population guéris: 23.5%\n",
      "\n",
      "À 12 jours: \n",
      "\n",
      "Nombre d'individu sains: 58, Pourcentage de population sains: 28.999999999999996%\n",
      "Nombre d'individu infectés: 91, Pourcentage de population infectés: 45.5%\n",
      "Nombre d'individu guéris: 51, Pourcentage de population guéris: 25.5%\n",
      "\n",
      "À 13 jours: \n",
      "\n",
      "Nombre d'individu sains: 56, Pourcentage de population sains: 28.000000000000004%\n",
      "Nombre d'individu infectés: 85, Pourcentage de population infectés: 42.5%\n",
      "Nombre d'individu guéris: 59, Pourcentage de population guéris: 29.5%\n",
      "\n",
      "À 14 jours: \n",
      "\n",
      "Nombre d'individu sains: 51, Pourcentage de population sains: 25.5%\n",
      "Nombre d'individu infectés: 86, Pourcentage de population infectés: 43.0%\n",
      "Nombre d'individu guéris: 63, Pourcentage de population guéris: 31.5%\n",
      "\n",
      "À 15 jours: \n",
      "\n",
      "Nombre d'individu sains: 48, Pourcentage de population sains: 24.0%\n",
      "Nombre d'individu infectés: 86, Pourcentage de population infectés: 43.0%\n",
      "Nombre d'individu guéris: 66, Pourcentage de population guéris: 33.0%\n",
      "\n",
      "À 16 jours: \n",
      "\n",
      "Nombre d'individu sains: 41, Pourcentage de population sains: 20.5%\n",
      "Nombre d'individu infectés: 84, Pourcentage de population infectés: 42.0%\n",
      "Nombre d'individu guéris: 75, Pourcentage de population guéris: 37.5%\n",
      "\n",
      "À 17 jours: \n",
      "\n",
      "Nombre d'individu sains: 39, Pourcentage de population sains: 19.5%\n",
      "Nombre d'individu infectés: 80, Pourcentage de population infectés: 40.0%\n",
      "Nombre d'individu guéris: 81, Pourcentage de population guéris: 40.5%\n",
      "\n",
      "À 18 jours: \n",
      "\n",
      "Nombre d'individu sains: 35, Pourcentage de population sains: 17.5%\n",
      "Nombre d'individu infectés: 78, Pourcentage de population infectés: 39.0%\n",
      "Nombre d'individu guéris: 87, Pourcentage de population guéris: 43.5%\n",
      "\n",
      "À 19 jours: \n",
      "\n",
      "Nombre d'individu sains: 30, Pourcentage de population sains: 15.0%\n",
      "Nombre d'individu infectés: 77, Pourcentage de population infectés: 38.5%\n",
      "Nombre d'individu guéris: 93, Pourcentage de population guéris: 46.5%\n",
      "\n",
      "À 20 jours: \n",
      "\n",
      "Nombre d'individu sains: 29, Pourcentage de population sains: 14.499999999999998%\n",
      "Nombre d'individu infectés: 72, Pourcentage de population infectés: 36.0%\n",
      "Nombre d'individu guéris: 99, Pourcentage de population guéris: 49.5%\n",
      "\n",
      "À 21 jours: \n",
      "\n",
      "Nombre d'individu sains: 27, Pourcentage de population sains: 13.5%\n",
      "Nombre d'individu infectés: 67, Pourcentage de population infectés: 33.5%\n",
      "Nombre d'individu guéris: 106, Pourcentage de population guéris: 53.0%\n",
      "\n",
      "À 22 jours: \n",
      "\n",
      "Nombre d'individu sains: 23, Pourcentage de population sains: 11.5%\n",
      "Nombre d'individu infectés: 68, Pourcentage de population infectés: 34.0%\n",
      "Nombre d'individu guéris: 109, Pourcentage de population guéris: 54.50000000000001%\n",
      "\n",
      "À 23 jours: \n",
      "\n",
      "Nombre d'individu sains: 23, Pourcentage de population sains: 11.5%\n",
      "Nombre d'individu infectés: 66, Pourcentage de population infectés: 33.0%\n",
      "Nombre d'individu guéris: 111, Pourcentage de population guéris: 55.50000000000001%\n",
      "\n",
      "À 24 jours: \n",
      "\n",
      "Nombre d'individu sains: 23, Pourcentage de population sains: 11.5%\n",
      "Nombre d'individu infectés: 65, Pourcentage de population infectés: 32.5%\n",
      "Nombre d'individu guéris: 112, Pourcentage de population guéris: 56.00000000000001%\n",
      "\n",
      "À 25 jours: \n",
      "\n",
      "Nombre d'individu sains: 19, Pourcentage de population sains: 9.5%\n",
      "Nombre d'individu infectés: 63, Pourcentage de population infectés: 31.5%\n",
      "Nombre d'individu guéris: 118, Pourcentage de population guéris: 59.0%\n",
      "\n",
      "À 26 jours: \n",
      "\n",
      "Nombre d'individu sains: 15, Pourcentage de population sains: 7.5%\n",
      "Nombre d'individu infectés: 63, Pourcentage de population infectés: 31.5%\n",
      "Nombre d'individu guéris: 122, Pourcentage de population guéris: 61.0%\n",
      "\n",
      "À 27 jours: \n",
      "\n",
      "Nombre d'individu sains: 12, Pourcentage de population sains: 6.0%\n",
      "Nombre d'individu infectés: 62, Pourcentage de population infectés: 31.0%\n",
      "Nombre d'individu guéris: 126, Pourcentage de population guéris: 63.0%\n",
      "\n",
      "À 28 jours: \n",
      "\n",
      "Nombre d'individu sains: 12, Pourcentage de population sains: 6.0%\n",
      "Nombre d'individu infectés: 58, Pourcentage de population infectés: 28.999999999999996%\n",
      "Nombre d'individu guéris: 130, Pourcentage de population guéris: 65.0%\n",
      "\n",
      "À 29 jours: \n",
      "\n",
      "Nombre d'individu sains: 12, Pourcentage de population sains: 6.0%\n",
      "Nombre d'individu infectés: 53, Pourcentage de population infectés: 26.5%\n",
      "Nombre d'individu guéris: 135, Pourcentage de population guéris: 67.5%\n",
      "\n",
      "À 30 jours: \n",
      "\n",
      "Nombre d'individu sains: 12, Pourcentage de population sains: 6.0%\n",
      "Nombre d'individu infectés: 51, Pourcentage de population infectés: 25.5%\n",
      "Nombre d'individu guéris: 137, Pourcentage de population guéris: 68.5%\n",
      "\n",
      "À 31 jours: \n",
      "\n",
      "Nombre d'individu sains: 11, Pourcentage de population sains: 5.5%\n",
      "Nombre d'individu infectés: 50, Pourcentage de population infectés: 25.0%\n",
      "Nombre d'individu guéris: 139, Pourcentage de population guéris: 69.5%\n",
      "\n",
      "À 32 jours: \n",
      "\n",
      "Nombre d'individu sains: 11, Pourcentage de population sains: 5.5%\n",
      "Nombre d'individu infectés: 47, Pourcentage de population infectés: 23.5%\n",
      "Nombre d'individu guéris: 142, Pourcentage de population guéris: 71.0%\n",
      "\n",
      "À 33 jours: \n",
      "\n",
      "Nombre d'individu sains: 10, Pourcentage de population sains: 5.0%\n",
      "Nombre d'individu infectés: 45, Pourcentage de population infectés: 22.5%\n",
      "Nombre d'individu guéris: 145, Pourcentage de population guéris: 72.5%\n",
      "\n",
      "À 34 jours: \n",
      "\n",
      "Nombre d'individu sains: 9, Pourcentage de population sains: 4.5%\n",
      "Nombre d'individu infectés: 44, Pourcentage de population infectés: 22.0%\n",
      "Nombre d'individu guéris: 147, Pourcentage de population guéris: 73.5%\n",
      "\n",
      "À 35 jours: \n",
      "\n",
      "Nombre d'individu sains: 8, Pourcentage de population sains: 4.0%\n",
      "Nombre d'individu infectés: 44, Pourcentage de population infectés: 22.0%\n",
      "Nombre d'individu guéris: 148, Pourcentage de population guéris: 74.0%\n",
      "\n",
      "À 36 jours: \n",
      "\n",
      "Nombre d'individu sains: 8, Pourcentage de population sains: 4.0%\n",
      "Nombre d'individu infectés: 42, Pourcentage de population infectés: 21.0%\n",
      "Nombre d'individu guéris: 150, Pourcentage de population guéris: 75.0%\n",
      "\n",
      "À 37 jours: \n",
      "\n",
      "Nombre d'individu sains: 6, Pourcentage de population sains: 3.0%\n",
      "Nombre d'individu infectés: 39, Pourcentage de population infectés: 19.5%\n",
      "Nombre d'individu guéris: 155, Pourcentage de population guéris: 77.5%\n",
      "\n",
      "À 38 jours: \n",
      "\n",
      "Nombre d'individu sains: 6, Pourcentage de population sains: 3.0%\n",
      "Nombre d'individu infectés: 39, Pourcentage de population infectés: 19.5%\n",
      "Nombre d'individu guéris: 155, Pourcentage de population guéris: 77.5%\n",
      "\n",
      "À 39 jours: \n",
      "\n",
      "Nombre d'individu sains: 6, Pourcentage de population sains: 3.0%\n",
      "Nombre d'individu infectés: 37, Pourcentage de population infectés: 18.5%\n",
      "Nombre d'individu guéris: 157, Pourcentage de population guéris: 78.5%\n",
      "\n",
      "À 40 jours: \n",
      "\n",
      "Nombre d'individu sains: 6, Pourcentage de population sains: 3.0%\n",
      "Nombre d'individu infectés: 35, Pourcentage de population infectés: 17.5%\n",
      "Nombre d'individu guéris: 159, Pourcentage de population guéris: 79.5%\n",
      "\n",
      "À 41 jours: \n",
      "\n",
      "Nombre d'individu sains: 6, Pourcentage de population sains: 3.0%\n",
      "Nombre d'individu infectés: 34, Pourcentage de population infectés: 17.0%\n",
      "Nombre d'individu guéris: 160, Pourcentage de population guéris: 80.0%\n",
      "\n",
      "À 42 jours: \n",
      "\n",
      "Nombre d'individu sains: 6, Pourcentage de population sains: 3.0%\n",
      "Nombre d'individu infectés: 31, Pourcentage de population infectés: 15.5%\n",
      "Nombre d'individu guéris: 163, Pourcentage de population guéris: 81.5%\n",
      "\n",
      "À 43 jours: \n",
      "\n",
      "Nombre d'individu sains: 6, Pourcentage de population sains: 3.0%\n",
      "Nombre d'individu infectés: 30, Pourcentage de population infectés: 15.0%\n",
      "Nombre d'individu guéris: 164, Pourcentage de population guéris: 82.0%\n",
      "\n",
      "À 44 jours: \n",
      "\n",
      "Nombre d'individu sains: 6, Pourcentage de population sains: 3.0%\n",
      "Nombre d'individu infectés: 25, Pourcentage de population infectés: 12.5%\n",
      "Nombre d'individu guéris: 169, Pourcentage de population guéris: 84.5%\n",
      "\n",
      "À 45 jours: \n",
      "\n",
      "Nombre d'individu sains: 6, Pourcentage de population sains: 3.0%\n",
      "Nombre d'individu infectés: 23, Pourcentage de population infectés: 11.5%\n",
      "Nombre d'individu guéris: 171, Pourcentage de population guéris: 85.5%\n",
      "\n",
      "À 46 jours: \n",
      "\n",
      "Nombre d'individu sains: 6, Pourcentage de population sains: 3.0%\n",
      "Nombre d'individu infectés: 21, Pourcentage de population infectés: 10.5%\n",
      "Nombre d'individu guéris: 173, Pourcentage de population guéris: 86.5%\n",
      "\n",
      "À 47 jours: \n",
      "\n",
      "Nombre d'individu sains: 5, Pourcentage de population sains: 2.5%\n",
      "Nombre d'individu infectés: 21, Pourcentage de population infectés: 10.5%\n",
      "Nombre d'individu guéris: 174, Pourcentage de population guéris: 87.0%\n",
      "\n",
      "À 48 jours: \n",
      "\n",
      "Nombre d'individu sains: 5, Pourcentage de population sains: 2.5%\n",
      "Nombre d'individu infectés: 20, Pourcentage de population infectés: 10.0%\n",
      "Nombre d'individu guéris: 175, Pourcentage de population guéris: 87.5%\n",
      "\n",
      "À 49 jours: \n",
      "\n",
      "Nombre d'individu sains: 5, Pourcentage de population sains: 2.5%\n",
      "Nombre d'individu infectés: 20, Pourcentage de population infectés: 10.0%\n",
      "Nombre d'individu guéris: 175, Pourcentage de population guéris: 87.5%\n",
      "\n",
      "À 50 jours: \n",
      "\n",
      "Nombre d'individu sains: 5, Pourcentage de population sains: 2.5%\n",
      "Nombre d'individu infectés: 19, Pourcentage de population infectés: 9.5%\n",
      "Nombre d'individu guéris: 176, Pourcentage de population guéris: 88.0%\n",
      "\n",
      "À 51 jours: \n",
      "\n",
      "Nombre d'individu sains: 4, Pourcentage de population sains: 2.0%\n",
      "Nombre d'individu infectés: 19, Pourcentage de population infectés: 9.5%\n",
      "Nombre d'individu guéris: 177, Pourcentage de population guéris: 88.5%\n",
      "\n",
      "À 52 jours: \n",
      "\n",
      "Nombre d'individu sains: 4, Pourcentage de population sains: 2.0%\n",
      "Nombre d'individu infectés: 18, Pourcentage de population infectés: 9.0%\n",
      "Nombre d'individu guéris: 178, Pourcentage de population guéris: 89.0%\n",
      "\n",
      "À 53 jours: \n",
      "\n",
      "Nombre d'individu sains: 4, Pourcentage de population sains: 2.0%\n",
      "Nombre d'individu infectés: 17, Pourcentage de population infectés: 8.5%\n",
      "Nombre d'individu guéris: 179, Pourcentage de population guéris: 89.5%\n",
      "\n",
      "À 54 jours: \n",
      "\n",
      "Nombre d'individu sains: 4, Pourcentage de population sains: 2.0%\n",
      "Nombre d'individu infectés: 17, Pourcentage de population infectés: 8.5%\n",
      "Nombre d'individu guéris: 179, Pourcentage de population guéris: 89.5%\n",
      "\n",
      "À 55 jours: \n",
      "\n",
      "Nombre d'individu sains: 4, Pourcentage de population sains: 2.0%\n",
      "Nombre d'individu infectés: 16, Pourcentage de population infectés: 8.0%\n",
      "Nombre d'individu guéris: 180, Pourcentage de population guéris: 90.0%\n",
      "\n",
      "À 56 jours: \n",
      "\n",
      "Nombre d'individu sains: 4, Pourcentage de population sains: 2.0%\n",
      "Nombre d'individu infectés: 16, Pourcentage de population infectés: 8.0%\n",
      "Nombre d'individu guéris: 180, Pourcentage de population guéris: 90.0%\n",
      "\n",
      "À 57 jours: \n",
      "\n",
      "Nombre d'individu sains: 4, Pourcentage de population sains: 2.0%\n",
      "Nombre d'individu infectés: 15, Pourcentage de population infectés: 7.5%\n",
      "Nombre d'individu guéris: 181, Pourcentage de population guéris: 90.5%\n",
      "\n",
      "À 58 jours: \n",
      "\n",
      "Nombre d'individu sains: 3, Pourcentage de population sains: 1.5%\n",
      "Nombre d'individu infectés: 15, Pourcentage de population infectés: 7.5%\n",
      "Nombre d'individu guéris: 182, Pourcentage de population guéris: 91.0%\n",
      "\n",
      "À 59 jours: \n",
      "\n",
      "Nombre d'individu sains: 3, Pourcentage de population sains: 1.5%\n",
      "Nombre d'individu infectés: 15, Pourcentage de population infectés: 7.5%\n",
      "Nombre d'individu guéris: 182, Pourcentage de population guéris: 91.0%\n",
      "\n",
      "À 60 jours: \n",
      "\n",
      "Nombre d'individu sains: 3, Pourcentage de population sains: 1.5%\n",
      "Nombre d'individu infectés: 15, Pourcentage de population infectés: 7.5%\n",
      "Nombre d'individu guéris: 182, Pourcentage de population guéris: 91.0%\n",
      "\n",
      "À 61 jours: \n",
      "\n",
      "Nombre d'individu sains: 3, Pourcentage de population sains: 1.5%\n",
      "Nombre d'individu infectés: 13, Pourcentage de population infectés: 6.5%\n",
      "Nombre d'individu guéris: 184, Pourcentage de population guéris: 92.0%\n",
      "\n",
      "À 62 jours: \n",
      "\n",
      "Nombre d'individu sains: 3, Pourcentage de population sains: 1.5%\n",
      "Nombre d'individu infectés: 11, Pourcentage de population infectés: 5.5%\n",
      "Nombre d'individu guéris: 186, Pourcentage de population guéris: 93.0%\n",
      "\n",
      "À 63 jours: \n",
      "\n",
      "Nombre d'individu sains: 3, Pourcentage de population sains: 1.5%\n",
      "Nombre d'individu infectés: 10, Pourcentage de population infectés: 5.0%\n",
      "Nombre d'individu guéris: 187, Pourcentage de population guéris: 93.5%\n",
      "\n",
      "À 64 jours: \n",
      "\n",
      "Nombre d'individu sains: 3, Pourcentage de population sains: 1.5%\n",
      "Nombre d'individu infectés: 10, Pourcentage de population infectés: 5.0%\n",
      "Nombre d'individu guéris: 187, Pourcentage de population guéris: 93.5%\n",
      "\n",
      "À 65 jours: \n",
      "\n",
      "Nombre d'individu sains: 2, Pourcentage de population sains: 1.0%\n",
      "Nombre d'individu infectés: 10, Pourcentage de population infectés: 5.0%\n",
      "Nombre d'individu guéris: 188, Pourcentage de population guéris: 94.0%\n",
      "\n",
      "À 66 jours: \n",
      "\n",
      "Nombre d'individu sains: 1, Pourcentage de population sains: 0.5%\n",
      "Nombre d'individu infectés: 11, Pourcentage de population infectés: 5.5%\n",
      "Nombre d'individu guéris: 188, Pourcentage de population guéris: 94.0%\n",
      "\n",
      "À 67 jours: \n",
      "\n",
      "Nombre d'individu sains: 1, Pourcentage de population sains: 0.5%\n",
      "Nombre d'individu infectés: 11, Pourcentage de population infectés: 5.5%\n",
      "Nombre d'individu guéris: 188, Pourcentage de population guéris: 94.0%\n",
      "\n",
      "À 68 jours: \n",
      "\n",
      "Nombre d'individu sains: 1, Pourcentage de population sains: 0.5%\n",
      "Nombre d'individu infectés: 11, Pourcentage de population infectés: 5.5%\n",
      "Nombre d'individu guéris: 188, Pourcentage de population guéris: 94.0%\n",
      "\n",
      "À 69 jours: \n",
      "\n",
      "Nombre d'individu sains: 1, Pourcentage de population sains: 0.5%\n",
      "Nombre d'individu infectés: 10, Pourcentage de population infectés: 5.0%\n",
      "Nombre d'individu guéris: 189, Pourcentage de population guéris: 94.5%\n",
      "\n",
      "À 70 jours: \n",
      "\n",
      "Nombre d'individu sains: 1, Pourcentage de population sains: 0.5%\n",
      "Nombre d'individu infectés: 9, Pourcentage de population infectés: 4.5%\n",
      "Nombre d'individu guéris: 190, Pourcentage de population guéris: 95.0%\n",
      "\n",
      "À 71 jours: \n",
      "\n",
      "Nombre d'individu sains: 1, Pourcentage de population sains: 0.5%\n",
      "Nombre d'individu infectés: 6, Pourcentage de population infectés: 3.0%\n",
      "Nombre d'individu guéris: 193, Pourcentage de population guéris: 96.5%\n",
      "\n",
      "À 72 jours: \n",
      "\n",
      "Nombre d'individu sains: 1, Pourcentage de population sains: 0.5%\n",
      "Nombre d'individu infectés: 5, Pourcentage de population infectés: 2.5%\n",
      "Nombre d'individu guéris: 194, Pourcentage de population guéris: 97.0%\n",
      "\n",
      "À 73 jours: \n",
      "\n",
      "Nombre d'individu sains: 1, Pourcentage de population sains: 0.5%\n",
      "Nombre d'individu infectés: 5, Pourcentage de population infectés: 2.5%\n",
      "Nombre d'individu guéris: 194, Pourcentage de population guéris: 97.0%\n",
      "\n",
      "À 74 jours: \n",
      "\n",
      "Nombre d'individu sains: 1, Pourcentage de population sains: 0.5%\n",
      "Nombre d'individu infectés: 4, Pourcentage de population infectés: 2.0%\n",
      "Nombre d'individu guéris: 195, Pourcentage de population guéris: 97.5%\n",
      "\n",
      "À 75 jours: \n",
      "\n",
      "Nombre d'individu sains: 1, Pourcentage de population sains: 0.5%\n",
      "Nombre d'individu infectés: 4, Pourcentage de population infectés: 2.0%\n",
      "Nombre d'individu guéris: 195, Pourcentage de population guéris: 97.5%\n",
      "\n",
      "À 76 jours: \n",
      "\n",
      "Nombre d'individu sains: 1, Pourcentage de population sains: 0.5%\n",
      "Nombre d'individu infectés: 4, Pourcentage de population infectés: 2.0%\n",
      "Nombre d'individu guéris: 195, Pourcentage de population guéris: 97.5%\n",
      "\n",
      "À 77 jours: \n",
      "\n",
      "Nombre d'individu sains: 1, Pourcentage de population sains: 0.5%\n",
      "Nombre d'individu infectés: 4, Pourcentage de population infectés: 2.0%\n",
      "Nombre d'individu guéris: 195, Pourcentage de population guéris: 97.5%\n",
      "\n",
      "À 78 jours: \n",
      "\n",
      "Nombre d'individu sains: 1, Pourcentage de population sains: 0.5%\n",
      "Nombre d'individu infectés: 3, Pourcentage de population infectés: 1.5%\n",
      "Nombre d'individu guéris: 196, Pourcentage de population guéris: 98.0%\n",
      "\n",
      "À 79 jours: \n",
      "\n",
      "Nombre d'individu sains: 0, Pourcentage de population sains: 0.0%\n",
      "Nombre d'individu infectés: 4, Pourcentage de population infectés: 2.0%\n",
      "Nombre d'individu guéris: 196, Pourcentage de population guéris: 98.0%\n",
      "\n",
      "À 80 jours: \n",
      "\n",
      "Nombre d'individu sains: 0, Pourcentage de population sains: 0.0%\n",
      "Nombre d'individu infectés: 4, Pourcentage de population infectés: 2.0%\n",
      "Nombre d'individu guéris: 196, Pourcentage de population guéris: 98.0%\n",
      "\n",
      "À 81 jours: \n",
      "\n",
      "Nombre d'individu sains: 0, Pourcentage de population sains: 0.0%\n",
      "Nombre d'individu infectés: 4, Pourcentage de population infectés: 2.0%\n",
      "Nombre d'individu guéris: 196, Pourcentage de population guéris: 98.0%\n",
      "\n",
      "À 82 jours: \n",
      "\n",
      "Nombre d'individu sains: 0, Pourcentage de population sains: 0.0%\n",
      "Nombre d'individu infectés: 3, Pourcentage de population infectés: 1.5%\n",
      "Nombre d'individu guéris: 197, Pourcentage de population guéris: 98.5%\n",
      "\n",
      "À 83 jours: \n",
      "\n",
      "Nombre d'individu sains: 0, Pourcentage de population sains: 0.0%\n",
      "Nombre d'individu infectés: 3, Pourcentage de population infectés: 1.5%\n",
      "Nombre d'individu guéris: 197, Pourcentage de population guéris: 98.5%\n",
      "\n",
      "À 84 jours: \n",
      "\n",
      "Nombre d'individu sains: 0, Pourcentage de population sains: 0.0%\n",
      "Nombre d'individu infectés: 3, Pourcentage de population infectés: 1.5%\n",
      "Nombre d'individu guéris: 197, Pourcentage de population guéris: 98.5%\n",
      "\n",
      "À 85 jours: \n",
      "\n",
      "Nombre d'individu sains: 0, Pourcentage de population sains: 0.0%\n",
      "Nombre d'individu infectés: 2, Pourcentage de population infectés: 1.0%\n",
      "Nombre d'individu guéris: 198, Pourcentage de population guéris: 99.0%\n",
      "\n",
      "À 86 jours: \n",
      "\n",
      "Nombre d'individu sains: 0, Pourcentage de population sains: 0.0%\n",
      "Nombre d'individu infectés: 2, Pourcentage de population infectés: 1.0%\n",
      "Nombre d'individu guéris: 198, Pourcentage de population guéris: 99.0%\n",
      "\n",
      "À 87 jours: \n",
      "\n",
      "Nombre d'individu sains: 0, Pourcentage de population sains: 0.0%\n",
      "Nombre d'individu infectés: 2, Pourcentage de population infectés: 1.0%\n",
      "Nombre d'individu guéris: 198, Pourcentage de population guéris: 99.0%\n",
      "\n",
      "À 88 jours: \n",
      "\n",
      "Nombre d'individu sains: 0, Pourcentage de population sains: 0.0%\n",
      "Nombre d'individu infectés: 2, Pourcentage de population infectés: 1.0%\n",
      "Nombre d'individu guéris: 198, Pourcentage de population guéris: 99.0%\n",
      "\n",
      "À 89 jours: \n",
      "\n",
      "Nombre d'individu sains: 0, Pourcentage de population sains: 0.0%\n",
      "Nombre d'individu infectés: 2, Pourcentage de population infectés: 1.0%\n",
      "Nombre d'individu guéris: 198, Pourcentage de population guéris: 99.0%\n",
      "\n",
      "À 90 jours: \n",
      "\n",
      "Nombre d'individu sains: 0, Pourcentage de population sains: 0.0%\n",
      "Nombre d'individu infectés: 2, Pourcentage de population infectés: 1.0%\n",
      "Nombre d'individu guéris: 198, Pourcentage de population guéris: 99.0%\n",
      "\n",
      "À 91 jours: \n",
      "\n",
      "Nombre d'individu sains: 0, Pourcentage de population sains: 0.0%\n",
      "Nombre d'individu infectés: 2, Pourcentage de population infectés: 1.0%\n",
      "Nombre d'individu guéris: 198, Pourcentage de population guéris: 99.0%\n",
      "\n",
      "À 92 jours: \n",
      "\n",
      "Nombre d'individu sains: 0, Pourcentage de population sains: 0.0%\n",
      "Nombre d'individu infectés: 2, Pourcentage de population infectés: 1.0%\n",
      "Nombre d'individu guéris: 198, Pourcentage de population guéris: 99.0%\n",
      "\n",
      "À 93 jours: \n",
      "\n",
      "Nombre d'individu sains: 0, Pourcentage de population sains: 0.0%\n",
      "Nombre d'individu infectés: 2, Pourcentage de population infectés: 1.0%\n",
      "Nombre d'individu guéris: 198, Pourcentage de population guéris: 99.0%\n",
      "\n",
      "À 94 jours: \n",
      "\n",
      "Nombre d'individu sains: 0, Pourcentage de population sains: 0.0%\n",
      "Nombre d'individu infectés: 2, Pourcentage de population infectés: 1.0%\n",
      "Nombre d'individu guéris: 198, Pourcentage de population guéris: 99.0%\n",
      "\n",
      "À 95 jours: \n",
      "\n",
      "Nombre d'individu sains: 0, Pourcentage de population sains: 0.0%\n",
      "Nombre d'individu infectés: 2, Pourcentage de population infectés: 1.0%\n",
      "Nombre d'individu guéris: 198, Pourcentage de population guéris: 99.0%\n",
      "\n",
      "À 96 jours: \n",
      "\n",
      "Nombre d'individu sains: 0, Pourcentage de population sains: 0.0%\n",
      "Nombre d'individu infectés: 2, Pourcentage de population infectés: 1.0%\n",
      "Nombre d'individu guéris: 198, Pourcentage de population guéris: 99.0%\n",
      "\n",
      "À 97 jours: \n",
      "\n",
      "Nombre d'individu sains: 0, Pourcentage de population sains: 0.0%\n",
      "Nombre d'individu infectés: 2, Pourcentage de population infectés: 1.0%\n",
      "Nombre d'individu guéris: 198, Pourcentage de population guéris: 99.0%\n",
      "\n",
      "À 98 jours: \n",
      "\n",
      "Nombre d'individu sains: 0, Pourcentage de population sains: 0.0%\n",
      "Nombre d'individu infectés: 2, Pourcentage de population infectés: 1.0%\n",
      "Nombre d'individu guéris: 198, Pourcentage de population guéris: 99.0%\n",
      "\n",
      "À 99 jours: \n",
      "\n",
      "Nombre d'individu sains: 0, Pourcentage de population sains: 0.0%\n",
      "Nombre d'individu infectés: 1, Pourcentage de population infectés: 0.5%\n",
      "Nombre d'individu guéris: 199, Pourcentage de population guéris: 99.5%\n",
      "\n",
      "À 100 jours: \n",
      "\n",
      "Nombre d'individu sains: 0, Pourcentage de population sains: 0.0%\n",
      "Nombre d'individu infectés: 1, Pourcentage de population infectés: 0.5%\n",
      "Nombre d'individu guéris: 199, Pourcentage de population guéris: 99.5%\n",
      "\n",
      "À 101 jours: \n",
      "\n",
      "Nombre d'individu sains: 0, Pourcentage de population sains: 0.0%\n",
      "Nombre d'individu infectés: 1, Pourcentage de population infectés: 0.5%\n",
      "Nombre d'individu guéris: 199, Pourcentage de population guéris: 99.5%\n",
      "\n",
      "À 102 jours: \n",
      "\n",
      "Nombre d'individu sains: 0, Pourcentage de population sains: 0.0%\n",
      "Nombre d'individu infectés: 1, Pourcentage de population infectés: 0.5%\n",
      "Nombre d'individu guéris: 199, Pourcentage de population guéris: 99.5%\n",
      "\n",
      "À 103 jours: \n",
      "\n",
      "Nombre d'individu sains: 0, Pourcentage de population sains: 0.0%\n",
      "Nombre d'individu infectés: 1, Pourcentage de population infectés: 0.5%\n",
      "Nombre d'individu guéris: 199, Pourcentage de population guéris: 99.5%\n",
      "\n",
      "À 104 jours: \n",
      "\n",
      "Nombre d'individu sains: 0, Pourcentage de population sains: 0.0%\n",
      "Nombre d'individu infectés: 1, Pourcentage de population infectés: 0.5%\n",
      "Nombre d'individu guéris: 199, Pourcentage de population guéris: 99.5%\n",
      "\n",
      "À 105 jours: \n",
      "\n",
      "Nombre d'individu sains: 0, Pourcentage de population sains: 0.0%\n",
      "Nombre d'individu infectés: 1, Pourcentage de population infectés: 0.5%\n",
      "Nombre d'individu guéris: 199, Pourcentage de population guéris: 99.5%\n",
      "\n",
      "À 106 jours: \n",
      "\n",
      "Nombre d'individu sains: 0, Pourcentage de population sains: 0.0%\n",
      "Nombre d'individu infectés: 1, Pourcentage de population infectés: 0.5%\n",
      "Nombre d'individu guéris: 199, Pourcentage de population guéris: 99.5%\n",
      "\n",
      "À 107 jours: \n",
      "\n",
      "Nombre d'individu sains: 0, Pourcentage de population sains: 0.0%\n",
      "Nombre d'individu infectés: 1, Pourcentage de population infectés: 0.5%\n",
      "Nombre d'individu guéris: 199, Pourcentage de population guéris: 99.5%\n",
      "\n",
      "À 108 jours: \n",
      "\n",
      "Nombre d'individu sains: 0, Pourcentage de population sains: 0.0%\n",
      "Nombre d'individu infectés: 1, Pourcentage de population infectés: 0.5%\n",
      "Nombre d'individu guéris: 199, Pourcentage de population guéris: 99.5%\n",
      "\n",
      "À 109 jours: \n",
      "\n",
      "Nombre d'individu sains: 0, Pourcentage de population sains: 0.0%\n",
      "Nombre d'individu infectés: 1, Pourcentage de population infectés: 0.5%\n",
      "Nombre d'individu guéris: 199, Pourcentage de population guéris: 99.5%\n",
      "\n",
      "À 110 jours: \n",
      "\n",
      "Nombre d'individu sains: 0, Pourcentage de population sains: 0.0%\n",
      "Nombre d'individu infectés: 1, Pourcentage de population infectés: 0.5%\n",
      "Nombre d'individu guéris: 199, Pourcentage de population guéris: 99.5%\n",
      "\n",
      "À 111 jours: \n",
      "\n",
      "Nombre d'individu sains: 0, Pourcentage de population sains: 0.0%\n",
      "Nombre d'individu infectés: 1, Pourcentage de population infectés: 0.5%\n",
      "Nombre d'individu guéris: 199, Pourcentage de population guéris: 99.5%\n",
      "\n",
      "À 112 jours: \n",
      "\n",
      "Nombre d'individu sains: 0, Pourcentage de population sains: 0.0%\n",
      "Nombre d'individu infectés: 1, Pourcentage de population infectés: 0.5%\n",
      "Nombre d'individu guéris: 199, Pourcentage de population guéris: 99.5%\n",
      "\n",
      "À 113 jours: \n",
      "\n",
      "Nombre d'individu sains: 0, Pourcentage de population sains: 0.0%\n",
      "Nombre d'individu infectés: 1, Pourcentage de population infectés: 0.5%\n",
      "Nombre d'individu guéris: 199, Pourcentage de population guéris: 99.5%\n",
      "\n",
      "À 114 jours: \n",
      "\n",
      "Nombre d'individu sains: 0, Pourcentage de population sains: 0.0%\n",
      "Nombre d'individu infectés: 1, Pourcentage de population infectés: 0.5%\n",
      "Nombre d'individu guéris: 199, Pourcentage de population guéris: 99.5%\n",
      "\n",
      "À 115 jours: \n",
      "\n",
      "Nombre d'individu sains: 0, Pourcentage de population sains: 0.0%\n",
      "Nombre d'individu infectés: 1, Pourcentage de population infectés: 0.5%\n",
      "Nombre d'individu guéris: 199, Pourcentage de population guéris: 99.5%\n",
      "\n",
      "À 116 jours: \n",
      "\n",
      "Nombre d'individu sains: 0, Pourcentage de population sains: 0.0%\n",
      "Nombre d'individu infectés: 1, Pourcentage de population infectés: 0.5%\n",
      "Nombre d'individu guéris: 199, Pourcentage de population guéris: 99.5%\n",
      "\n",
      "À 117 jours: \n",
      "\n",
      "Nombre d'individu sains: 0, Pourcentage de population sains: 0.0%\n",
      "Nombre d'individu infectés: 1, Pourcentage de population infectés: 0.5%\n",
      "Nombre d'individu guéris: 199, Pourcentage de population guéris: 99.5%\n",
      "\n",
      "À 118 jours: \n",
      "\n",
      "Nombre d'individu sains: 0, Pourcentage de population sains: 0.0%\n",
      "Nombre d'individu infectés: 0, Pourcentage de population infectés: 0.0%\n",
      "Nombre d'individu guéris: 200, Pourcentage de population guéris: 100.0%\n",
      "\n",
      "À 119 jours: \n",
      "\n",
      "Nombre d'individu sains: 0, Pourcentage de population sains: 0.0%\n",
      "Nombre d'individu infectés: 0, Pourcentage de population infectés: 0.0%\n",
      "Nombre d'individu guéris: 200, Pourcentage de population guéris: 100.0%\n",
      "\n",
      "À 120 jours: \n",
      "\n",
      "Nombre d'individu sains: 0, Pourcentage de population sains: 0.0%\n",
      "Nombre d'individu infectés: 0, Pourcentage de population infectés: 0.0%\n",
      "Nombre d'individu guéris: 200, Pourcentage de population guéris: 100.0%\n",
      "\n",
      "À 121 jours: \n",
      "\n",
      "Nombre d'individu sains: 0, Pourcentage de population sains: 0.0%\n",
      "Nombre d'individu infectés: 0, Pourcentage de population infectés: 0.0%\n",
      "Nombre d'individu guéris: 200, Pourcentage de population guéris: 100.0%\n",
      "\n",
      "À 122 jours: \n",
      "\n",
      "Nombre d'individu sains: 0, Pourcentage de population sains: 0.0%\n",
      "Nombre d'individu infectés: 0, Pourcentage de population infectés: 0.0%\n",
      "Nombre d'individu guéris: 200, Pourcentage de population guéris: 100.0%\n",
      "\n",
      "À 123 jours: \n",
      "\n",
      "Nombre d'individu sains: 0, Pourcentage de population sains: 0.0%\n",
      "Nombre d'individu infectés: 0, Pourcentage de population infectés: 0.0%\n",
      "Nombre d'individu guéris: 200, Pourcentage de population guéris: 100.0%\n",
      "\n",
      "À 124 jours: \n",
      "\n",
      "Nombre d'individu sains: 0, Pourcentage de population sains: 0.0%\n",
      "Nombre d'individu infectés: 0, Pourcentage de population infectés: 0.0%\n",
      "Nombre d'individu guéris: 200, Pourcentage de population guéris: 100.0%\n",
      "\n",
      "À 125 jours: \n",
      "\n",
      "Nombre d'individu sains: 0, Pourcentage de population sains: 0.0%\n",
      "Nombre d'individu infectés: 0, Pourcentage de population infectés: 0.0%\n",
      "Nombre d'individu guéris: 200, Pourcentage de population guéris: 100.0%\n",
      "\n",
      "À 126 jours: \n",
      "\n",
      "Nombre d'individu sains: 0, Pourcentage de population sains: 0.0%\n",
      "Nombre d'individu infectés: 0, Pourcentage de population infectés: 0.0%\n",
      "Nombre d'individu guéris: 200, Pourcentage de population guéris: 100.0%\n",
      "\n",
      "À 127 jours: \n",
      "\n",
      "Nombre d'individu sains: 0, Pourcentage de population sains: 0.0%\n",
      "Nombre d'individu infectés: 0, Pourcentage de population infectés: 0.0%\n",
      "Nombre d'individu guéris: 200, Pourcentage de population guéris: 100.0%\n",
      "\n",
      "À 128 jours: \n",
      "\n",
      "Nombre d'individu sains: 0, Pourcentage de population sains: 0.0%\n",
      "Nombre d'individu infectés: 0, Pourcentage de population infectés: 0.0%\n",
      "Nombre d'individu guéris: 200, Pourcentage de population guéris: 100.0%\n",
      "\n",
      "À 129 jours: \n",
      "\n",
      "Nombre d'individu sains: 0, Pourcentage de population sains: 0.0%\n",
      "Nombre d'individu infectés: 0, Pourcentage de population infectés: 0.0%\n",
      "Nombre d'individu guéris: 200, Pourcentage de population guéris: 100.0%\n",
      "\n",
      "À 130 jours: \n",
      "\n",
      "Nombre d'individu sains: 0, Pourcentage de population sains: 0.0%\n",
      "Nombre d'individu infectés: 0, Pourcentage de population infectés: 0.0%\n",
      "Nombre d'individu guéris: 200, Pourcentage de population guéris: 100.0%\n",
      "\n",
      "À 131 jours: \n",
      "\n",
      "Nombre d'individu sains: 0, Pourcentage de population sains: 0.0%\n",
      "Nombre d'individu infectés: 0, Pourcentage de population infectés: 0.0%\n",
      "Nombre d'individu guéris: 200, Pourcentage de population guéris: 100.0%\n",
      "\n",
      "À 132 jours: \n",
      "\n",
      "Nombre d'individu sains: 0, Pourcentage de population sains: 0.0%\n",
      "Nombre d'individu infectés: 0, Pourcentage de population infectés: 0.0%\n",
      "Nombre d'individu guéris: 200, Pourcentage de population guéris: 100.0%\n",
      "\n",
      "À 133 jours: \n",
      "\n",
      "Nombre d'individu sains: 0, Pourcentage de population sains: 0.0%\n",
      "Nombre d'individu infectés: 0, Pourcentage de population infectés: 0.0%\n",
      "Nombre d'individu guéris: 200, Pourcentage de population guéris: 100.0%\n",
      "\n",
      "À 134 jours: \n",
      "\n",
      "Nombre d'individu sains: 0, Pourcentage de population sains: 0.0%\n",
      "Nombre d'individu infectés: 0, Pourcentage de population infectés: 0.0%\n",
      "Nombre d'individu guéris: 200, Pourcentage de population guéris: 100.0%\n",
      "\n",
      "À 135 jours: \n",
      "\n",
      "Nombre d'individu sains: 0, Pourcentage de population sains: 0.0%\n",
      "Nombre d'individu infectés: 0, Pourcentage de population infectés: 0.0%\n",
      "Nombre d'individu guéris: 200, Pourcentage de population guéris: 100.0%\n",
      "\n",
      "À 136 jours: \n",
      "\n",
      "Nombre d'individu sains: 0, Pourcentage de population sains: 0.0%\n",
      "Nombre d'individu infectés: 0, Pourcentage de population infectés: 0.0%\n",
      "Nombre d'individu guéris: 200, Pourcentage de population guéris: 100.0%\n",
      "\n",
      "À 137 jours: \n",
      "\n",
      "Nombre d'individu sains: 0, Pourcentage de population sains: 0.0%\n",
      "Nombre d'individu infectés: 0, Pourcentage de population infectés: 0.0%\n",
      "Nombre d'individu guéris: 200, Pourcentage de population guéris: 100.0%\n",
      "\n",
      "À 138 jours: \n",
      "\n",
      "Nombre d'individu sains: 0, Pourcentage de population sains: 0.0%\n",
      "Nombre d'individu infectés: 0, Pourcentage de population infectés: 0.0%\n",
      "Nombre d'individu guéris: 200, Pourcentage de population guéris: 100.0%\n",
      "\n",
      "À 139 jours: \n",
      "\n",
      "Nombre d'individu sains: 0, Pourcentage de population sains: 0.0%\n",
      "Nombre d'individu infectés: 0, Pourcentage de population infectés: 0.0%\n",
      "Nombre d'individu guéris: 200, Pourcentage de population guéris: 100.0%\n",
      "\n",
      "À 140 jours: \n",
      "\n",
      "Nombre d'individu sains: 0, Pourcentage de population sains: 0.0%\n",
      "Nombre d'individu infectés: 0, Pourcentage de population infectés: 0.0%\n",
      "Nombre d'individu guéris: 200, Pourcentage de population guéris: 100.0%\n",
      "\n",
      "À 141 jours: \n",
      "\n",
      "Nombre d'individu sains: 0, Pourcentage de population sains: 0.0%\n",
      "Nombre d'individu infectés: 0, Pourcentage de population infectés: 0.0%\n",
      "Nombre d'individu guéris: 200, Pourcentage de population guéris: 100.0%\n",
      "\n",
      "À 142 jours: \n",
      "\n",
      "Nombre d'individu sains: 0, Pourcentage de population sains: 0.0%\n",
      "Nombre d'individu infectés: 0, Pourcentage de population infectés: 0.0%\n",
      "Nombre d'individu guéris: 200, Pourcentage de population guéris: 100.0%\n",
      "\n",
      "À 143 jours: \n",
      "\n",
      "Nombre d'individu sains: 0, Pourcentage de population sains: 0.0%\n",
      "Nombre d'individu infectés: 0, Pourcentage de population infectés: 0.0%\n",
      "Nombre d'individu guéris: 200, Pourcentage de population guéris: 100.0%\n",
      "\n",
      "À 144 jours: \n",
      "\n",
      "Nombre d'individu sains: 0, Pourcentage de population sains: 0.0%\n",
      "Nombre d'individu infectés: 0, Pourcentage de population infectés: 0.0%\n",
      "Nombre d'individu guéris: 200, Pourcentage de population guéris: 100.0%\n",
      "\n",
      "À 145 jours: \n",
      "\n",
      "Nombre d'individu sains: 0, Pourcentage de population sains: 0.0%\n",
      "Nombre d'individu infectés: 0, Pourcentage de population infectés: 0.0%\n",
      "Nombre d'individu guéris: 200, Pourcentage de population guéris: 100.0%\n",
      "\n",
      "À 146 jours: \n",
      "\n",
      "Nombre d'individu sains: 0, Pourcentage de population sains: 0.0%\n",
      "Nombre d'individu infectés: 0, Pourcentage de population infectés: 0.0%\n",
      "Nombre d'individu guéris: 200, Pourcentage de population guéris: 100.0%\n",
      "\n",
      "À 147 jours: \n",
      "\n",
      "Nombre d'individu sains: 0, Pourcentage de population sains: 0.0%\n",
      "Nombre d'individu infectés: 0, Pourcentage de population infectés: 0.0%\n",
      "Nombre d'individu guéris: 200, Pourcentage de population guéris: 100.0%\n",
      "\n",
      "À 148 jours: \n",
      "\n",
      "Nombre d'individu sains: 0, Pourcentage de population sains: 0.0%\n",
      "Nombre d'individu infectés: 0, Pourcentage de population infectés: 0.0%\n",
      "Nombre d'individu guéris: 200, Pourcentage de population guéris: 100.0%\n",
      "\n",
      "À 149 jours: \n",
      "\n",
      "Nombre d'individu sains: 0, Pourcentage de population sains: 0.0%\n",
      "Nombre d'individu infectés: 0, Pourcentage de population infectés: 0.0%\n",
      "Nombre d'individu guéris: 200, Pourcentage de population guéris: 100.0%\n",
      "\n"
     ]
    },
    {
     "data": {
      "image/png": "[encoded data removed]",
      "text/plain": [
       "<Figure size 432x288 with 1 Axes>"
      ]
     },
     "metadata": {
      "needs_background": "light"
     },
     "output_type": "display_data"
    }
   ],
   "source": [
    "compter_population(A,pi_0,150,200,True,True,False)"
   ]
  },
  {
   "cell_type": "markdown",
   "metadata": {},
   "source": [
    "On peut voir qu'à partir de 80 jours, le nombre d'individus sains est à 0. A 118 jours, le nombre d'individus infectés est à 0 et le nombre d'individus guéris est à 100%. On peut déduire que quand t est grand, tout les individus auront tendance à être gueri."
   ]
  },
  {
   "cell_type": "code",
   "execution_count": 23,
   "metadata": {},
   "outputs": [
    {
     "data": {
      "image/png": "[encoded data removed]",
      "text/plain": [
       "<Figure size 432x288 with 1 Axes>"
      ]
     },
     "metadata": {
      "needs_background": "light"
     },
     "output_type": "display_data"
    }
   ],
   "source": [
    "compter_population(A,pi_0,150,5,False,True,False)"
   ]
  },
  {
   "cell_type": "code",
   "execution_count": 25,
   "metadata": {},
   "outputs": [
    {
     "data": {
      "image/png": "[encoded data removed]",
      "text/plain": [
       "<Figure size 432x288 with 1 Axes>"
      ]
     },
     "metadata": {
      "needs_background": "light"
     },
     "output_type": "display_data"
    }
   ],
   "source": [
    "compter_population(A,pi_0,150,5000,False,True,False)"
   ]
  },
  {
   "cell_type": "markdown",
   "metadata": {},
   "source": [
    "On peut tirer la meme conclusion vu precedement avec n'importe quel nombre d'individu."
   ]
  },
  {
   "cell_type": "markdown",
   "metadata": {},
   "source": [
    "## Longueur de l’infection"
   ]
  },
  {
   "cell_type": "markdown",
   "metadata": {},
   "source": [
    "## Question 1"
   ]
  },
  {
   "cell_type": "code",
   "execution_count": 9,
   "metadata": {},
   "outputs": [],
   "source": [
    "def longueur_moyenne_infection(matrice,pi_0,T,nbrIndividu):\n",
    "    \"\"\"\n",
    "    Retourne la longueur moyenne d'une sequence d'individu infectés\n",
    "    \"\"\"\n",
    "    list_seq=compter_population(matrice,pi_0,T,nbrIndividu,False,False,True)\n",
    "    s = 0\n",
    "    moy=0\n",
    "    for etat in list_seq:\n",
    "        s += etat.count(1)\n",
    "    moyenne=s/len(list_seq)\n",
    "    \n",
    "    return moyenne"
   ]
  },
  {
   "cell_type": "code",
   "execution_count": 10,
   "metadata": {},
   "outputs": [
    {
     "data": {
      "text/plain": [
       "14.059"
      ]
     },
     "execution_count": 10,
     "metadata": {},
     "output_type": "execute_result"
    }
   ],
   "source": [
    "longueur_moyenne_infection(A,pi_0,150,1000)"
   ]
  },
  {
   "cell_type": "markdown",
   "metadata": {},
   "source": [
    "## Question 2"
   ]
  },
  {
   "cell_type": "code",
   "execution_count": 18,
   "metadata": {},
   "outputs": [
    {
     "data": {
      "image/png": "[encoded data removed]",
      "text/plain": [
       "<Figure size 432x288 with 1 Axes>"
      ]
     },
     "metadata": {
      "needs_background": "light"
     },
     "output_type": "display_data"
    }
   ],
   "source": [
    "temps_infecte = []\n",
    "liste_seq = compter_population(A,pi_0,150,5000,False,False,True)\n",
    "for etat in liste_seq :\n",
    "    temps_infecte.append(etat.count(1))\n",
    "plt.hist(temps_infecte, bins=np.arange(min(temps_infecte), max(temps_infecte) + 1, 1))\n",
    "plt.xticks(np.arange(0,101,step=10))\n",
    "plt.show()    "
   ]
  },
  {
   "cell_type": "markdown",
   "metadata": {},
   "source": [
    "## Question 3"
   ]
  },
  {
   "cell_type": "markdown",
   "metadata": {},
   "source": [
    "La moyenne de longueur théorique d’une séquence de I est égale à l'espérance de $X$. Puisque $X$ suit la loi géométrique, on a $E(X)=\\frac{1}{P}$.\\\n",
    "\\\n",
    "On sait que la probabilité $P = P(guéri | infecté) = 0.07$ \\\n",
    "Donc la longueur théorique d’une séquence de $I = \\frac{1}{0.07} = 14.286$"
   ]
  },
  {
   "cell_type": "markdown",
   "metadata": {},
   "source": [
    "## Question 4"
   ]
  },
  {
   "cell_type": "code",
   "execution_count": 14,
   "metadata": {},
   "outputs": [],
   "source": [
    "def infection_theorique(T,p,nbrIndividu):\n",
    "    prob_tmp_inf = []\n",
    "    t=1\n",
    "    for temps in range(1,T):\n",
    "        t=(1-p) ** temps * p\n",
    "        prob_tmp_inf.append(t*nbrIndividu)\n",
    "    return prob_tmp_inf    "
   ]
  },
  {
   "cell_type": "code",
   "execution_count": 21,
   "metadata": {},
   "outputs": [
    {
     "data": {
      "image/png": "[encoded data removed]",
      "text/plain": [
       "<Figure size 432x288 with 1 Axes>"
      ]
     },
     "metadata": {
      "needs_background": "light"
     },
     "output_type": "display_data"
    }
   ],
   "source": [
    "prob_tmp_inf=infection_theorique(100,0.07,5000)\n",
    "plt.plot(prob_tmp_inf,color=\"red\")\n",
    "plt.hist(temps_infecte, bins=np.arange(min(temps_infecte), max(temps_infecte) + 1, 1),color=\"blue\")\n",
    "plt.xlabel(\"Le nombre de personnes\")\n",
    "plt.ylabel(\"Le période de rester infecté\")\n",
    "plt.title(\"Le durée de rester infecté par rapport aux nombres des personnes\")\n",
    "plt.legend([\"Distrubition théorique\",\"Distrubition observée\"])\n",
    "plt.show()"
   ]
  },
  {
   "cell_type": "markdown",
   "metadata": {},
   "source": [
    "## Petites modifications autour de ce premier modèle"
   ]
  },
  {
   "cell_type": "code",
   "execution_count": null,
   "metadata": {},
   "outputs": [],
   "source": []
  },
  {
   "cell_type": "markdown",
   "id": "b4648024",
   "metadata": {},
   "source": [
    "# 3 Description du second modele\n"
   ]
  },
  {
   "cell_type": "markdown",
   "id": "9833c8b0",
   "metadata": {},
   "source": [
    "## Analyse du modele\n"
   ]
  },
  {
   "cell_type": "markdown",
   "id": "5b906d9c",
   "metadata": {},
   "source": [
    "### Question 1\n"
   ]
  },
  {
   "cell_type": "markdown",
   "id": "8c900879",
   "metadata": {},
   "source": [
    "Ce processus peut effectivement etre modelise par une chaine de markov car le processus est homogene, on a un nombre d'états fini et état t+1 depend que de t.\n"
   ]
  },
  {
   "cell_type": "markdown",
   "id": "8a1ab7fe",
   "metadata": {},
   "source": [
    "### Question 2"
   ]
  },
  {
   "cell_type": "markdown",
   "id": "d3d0bd5e",
   "metadata": {},
   "source": [
    "\n",
    "\n",
    "$$\\begin{matrix}\n",
    "& S & I & R \\\\\n",
    "S & 0.92 & 0.08 & 0 \\\\\n",
    "I & 0 & 0.93 & 0.07 \\\\\n",
    "R & 0.02 & 0 & 0.98\n",
    "\\end{matrix}$$\n",
    "\n"
   ]
  },
  {
   "cell_type": "markdown",
   "id": "b9908b1f",
   "metadata": {},
   "source": [
    "### Question 3"
   ]
  },
  {
   "cell_type": "markdown",
   "id": "1049eca5",
   "metadata": {},
   "source": [
    "Ce modèle n'est pas périodique, mais irréductible"
   ]
  },
  {
   "cell_type": "markdown",
   "id": "146fa7bf",
   "metadata": {},
   "source": [
    "### Question 4"
   ]
  },
  {
   "cell_type": "markdown",
   "id": "84a19132",
   "metadata": {},
   "source": [
    "la matrice AxA correspond a une matrice de transition au temps t+2"
   ]
  },
  {
   "cell_type": "code",
   "execution_count": 25,
   "id": "4b1a1319",
   "metadata": {},
   "outputs": [
    {
     "name": "stdout",
     "output_type": "stream",
     "text": [
      "Est elle stochastique? True\n"
     ]
    }
   ],
   "source": [
    "A = np.array([[0.92, 0.08, 0],[0, 0.93, 0.07],[0.02, 0, 0.98]])\n",
    "A2= np.dot(A,A)\n",
    "#print(A2)\n",
    "print(\"Est elle stochastique?\", verifie_matrice_stochastique(A2))"
   ]
  },
  {
   "cell_type": "markdown",
   "id": "f93a308e",
   "metadata": {},
   "source": [
    "la matrice $A^3$ correspond a une matrice de transition au temps t+3\n",
    "\n"
   ]
  },
  {
   "cell_type": "code",
   "execution_count": 24,
   "id": "1af2d5d1",
   "metadata": {},
   "outputs": [
    {
     "name": "stdout",
     "output_type": "stream",
     "text": [
      "Est elle stochastique? True\n"
     ]
    }
   ],
   "source": [
    "\n",
    "A3= np.dot(A,A2)\n",
    "#print(A3)\n",
    "print(\"Est elle stochastique?\", verifie_matrice_stochastique(A3))"
   ]
  },
  {
   "cell_type": "markdown",
   "id": "5ba9a8c4",
   "metadata": {},
   "source": [
    "la matrice $A^4$ correspond a une matrice de transition au temps t+4"
   ]
  },
  {
   "cell_type": "code",
   "execution_count": 23,
   "id": "1dd468c4",
   "metadata": {},
   "outputs": [
    {
     "name": "stdout",
     "output_type": "stream",
     "text": [
      "Est elle stochastique? True\n"
     ]
    }
   ],
   "source": [
    "A4= np.dot(A,A3)\n",
    "#print(A4)\n",
    "print(\"Est elle stochastique?\", verifie_matrice_stochastique(A4))"
   ]
  },
  {
   "cell_type": "markdown",
   "id": "49fd4c15",
   "metadata": {},
   "source": [
    "### Question 5"
   ]
  },
  {
   "cell_type": "code",
   "execution_count": null,
   "id": "29de9f98",
   "metadata": {},
   "outputs": [],
   "source": []
  },
  {
   "cell_type": "code",
   "execution_count": 26,
   "id": "53c43a7d",
   "metadata": {},
   "outputs": [
    {
     "data": {
      "image/png": "[encoded data removed]",
      "text/plain": [
       "<Figure size 640x480 with 1 Axes>"
      ]
     },
     "metadata": {},
     "output_type": "display_data"
    }
   ],
   "source": [
    "pi_0 = np.array([1, 0, 0])\n",
    "A = np.array([[0.92, 0.08, 0],[0, 0.93, 0.07],[0.02, 0, 0.98]])\n",
    "pi_liste = [pi_0]\n",
    "\n",
    "for i in range(0, 200):\n",
    "    pi_0 = np.dot(pi_0, A)\n",
    "    pi_liste.append(pi_0)\n",
    "    \n",
    "plt.plot(pi_liste)\n",
    "plt.legend(('etat S','etat I','etat R'))\n",
    "plt.xlabel('temps')\n",
    "plt.ylabel('probabilité')\n",
    "plt.show()"
   ]
  },
  {
   "cell_type": "markdown",
   "id": "b337a013",
   "metadata": {},
   "source": [
    "#### REMARQUES:"
   ]
  },
  {
   "cell_type": "markdown",
   "id": "b6dfce89",
   "metadata": {},
   "source": [
    "### Question 6"
   ]
  },
  {
   "cell_type": "code",
   "execution_count": 27,
   "id": "833029c5",
   "metadata": {},
   "outputs": [
    {
     "data": {
      "image/png": "[encoded data removed]",
      "text/plain": [
       "<Figure size 640x480 with 1 Axes>"
      ]
     },
     "metadata": {},
     "output_type": "display_data"
    }
   ],
   "source": [
    "pi_0 = np.array([0.1, 0.9, 0])\n",
    "A = np.array([[0.92, 0.08, 0],[0, 0.93, 0.07],[0.02, 0, 0.98]])\n",
    "pi_liste = [pi_0]\n",
    "\n",
    "for i in range(0, 200):\n",
    "    pi_0 = np.dot(pi_0, A)\n",
    "    pi_liste.append(pi_0)\n",
    "    \n",
    "plt.plot(pi_liste)\n",
    "plt.legend(('etat S','etat I','etat R'))\n",
    "plt.xlabel('temps')\n",
    "plt.ylabel('probabilité')\n",
    "plt.show()"
   ]
  },
  {
   "cell_type": "markdown",
   "id": "dc100039",
   "metadata": {},
   "source": [
    "#### REMARQUES"
   ]
  },
  {
   "cell_type": "markdown",
   "id": "f55617e8",
   "metadata": {},
   "source": [
    "#### 1-60 % sains et 40 % gueris\n"
   ]
  },
  {
   "cell_type": "code",
   "execution_count": 30,
   "id": "aa655858",
   "metadata": {
    "scrolled": true
   },
   "outputs": [
    {
     "data": {
      "image/png": "[encoded data removed]",
      "text/plain": [
       "<Figure size 640x480 with 1 Axes>"
      ]
     },
     "metadata": {},
     "output_type": "display_data"
    }
   ],
   "source": [
    "pi_0 = np.array([0.6, 0, 0.4])\n",
    "A = np.array([[0.92, 0.08, 0],[0, 0.93, 0.07],[0.02, 0, 0.98]])\n",
    "pi_liste = [pi_0]\n",
    "\n",
    "for i in range(0, 200):\n",
    "    pi_0 = np.dot(pi_0, A)\n",
    "    pi_liste.append(pi_0)\n",
    "    \n",
    "plt.plot(pi_liste)\n",
    "plt.legend(('etat S','etat I','etat R'))\n",
    "plt.xlabel('temps')\n",
    "plt.ylabel('probabilité')\n",
    "plt.show()"
   ]
  },
  {
   "cell_type": "markdown",
   "id": "97c97a40",
   "metadata": {},
   "source": [
    "#### REMARQUES"
   ]
  },
  {
   "cell_type": "markdown",
   "id": "b9a2106f",
   "metadata": {},
   "source": [
    "### Question 7"
   ]
  },
  {
   "cell_type": "code",
   "execution_count": null,
   "id": "85b4c632",
   "metadata": {},
   "outputs": [],
   "source": []
  }
 ],
 "metadata": {
  "kernelspec": {
   "display_name": "Python 3",
   "language": "python",
   "name": "python3"
  },
  "language_info": {
   "codemirror_mode": {
    "name": "ipython",
    "version": 3
   },
   "file_extension": ".py",
   "mimetype": "text/x-python",
   "name": "python",
   "nbconvert_exporter": "python",
   "pygments_lexer": "ipython3",
   "version": "3.8.3"
  }
 },
 "nbformat": 4,
 "nbformat_minor": 5
}
