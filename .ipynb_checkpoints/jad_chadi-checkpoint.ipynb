{
 "cells": [
  {
   "cell_type": "code",
   "execution_count": 1,
   "id": "1375ba0d",
   "metadata": {},
   "outputs": [],
   "source": [
    "import numpy as np\n",
    "import random as rd\n",
    "import matplotlib.pyplot as plt\n",
    "import matplotlib"
   ]
  },
  {
   "cell_type": "markdown",
   "metadata": {},
   "source": [
    "# 1 Apprentissage des paramètres d’un modèle à partir de données"
   ]
  },
  {
   "cell_type": "markdown",
   "metadata": {},
   "source": [
    "## Question 1.1.1"
   ]
  },
  {
   "cell_type": "markdown",
   "metadata": {},
   "source": [
    "Grace a la séquence d'observation et la formule suivante: $p(x|y)=P(X_i|X_{i-1})$ on peut déduire la Matrice de transition suivante:\n",
    "\n",
    "$$\\begin{matrix}\n",
    "& S & I & R \\\\\n",
    "S & \\frac{2}{3} & \\frac{1}{3} & 0 \\\\\n",
    "I & 0 & \\frac{5}{6} & \\frac{1}{6} \\\\\n",
    "R & 0 & 0 & 1\n",
    "\\end{matrix}$$\n",
    "\n",
    "\n"
   ]
  },
  {
   "cell_type": "markdown",
   "metadata": {},
   "source": [
    "## Question 1.2.1"
   ]
  },
  {
   "cell_type": "code",
   "execution_count": 9,
   "metadata": {},
   "outputs": [],
   "source": [
    "#lire les données\n",
    "data = np.loadtxt('data_exo_2022.txt',dtype=int)"
   ]
  },
  {
   "cell_type": "markdown",
   "metadata": {},
   "source": [
    "## Question 1.2.2"
   ]
  },
  {
   "cell_type": "code",
   "execution_count": 10,
   "metadata": {},
   "outputs": [
    {
     "name": "stdout",
     "output_type": "stream",
     "text": [
      "[[0.93082918 0.06917082 0.        ]\n",
      " [0.         0.93518148 0.06481852]\n",
      " [0.04065945 0.         0.95934055]]\n"
     ]
    }
   ],
   "source": [
    "matrice_transitions = np.zeros((3,3))\n",
    "\n",
    "#Compte le nombre de transitions entre chaque états\n",
    "for individu in data :\n",
    "    for i in range(0, len(individu) - 1) :\n",
    "        matrice_transitions[individu[i]][individu[i + 1]] += 1\n",
    "\n",
    "#Calcule la probabilité de transition entre les états\n",
    "for l in range(0, len(matrice_transitions)) :\n",
    "    somme_ligne = sum(matrice_transitions[l])\n",
    "    for c in range(0, len(matrice_transitions[l])) :\n",
    "        matrice_transitions[l][c] = matrice_transitions[l][c] / somme_ligne\n",
    "\n",
    "print(matrice_transitions)"
   ]
  },
  {
   "cell_type": "markdown",
   "metadata": {},
   "source": [
    "# 2 Description du premier modèle"
   ]
  },
  {
   "cell_type": "markdown",
   "metadata": {},
   "source": [
    "## Question 2.1.1"
   ]
  },
  {
   "cell_type": "markdown",
   "metadata": {},
   "source": [
    "A partir du graphe de transition, la matrice de transition A est la suivante:\n",
    "$$\\begin{matrix}\n",
    " & S & I & R \\\\\n",
    "S & 0.92 & 0.08 & 0 \\\\\n",
    "I & 0 & 0.93 & 0.07 \\\\\n",
    "R & 0 & 0 & 1 \n",
    "\\end{matrix}$$"
   ]
  },
  {
   "cell_type": "code",
   "execution_count": 16,
   "metadata": {},
   "outputs": [
    {
     "name": "stdout",
     "output_type": "stream",
     "text": [
      "True\n"
     ]
    }
   ],
   "source": [
    "def verifie_matrice_stochastique(matrix):\n",
    "  # si matrice n'est pas carre\n",
    "  if matrix.shape[0] != matrix.shape[1]:\n",
    "    return False\n",
    "  if not np.all(matrix >= 0):\n",
    "    return False\n",
    "#check si somme = 1\n",
    "  for i in range(matrix.shape[0]):\n",
    "    if (np.sum(matrix[i, :]) -1)>0:\n",
    "        return False       \n",
    "  \n",
    "  return True\n",
    "\n",
    "print(verifie_matrice_stochastique(matrice_transitions))"
   ]
  },
  {
   "cell_type": "markdown",
   "metadata": {},
   "source": [
    "## Question 2.1.2\n",
    "\n",
    "D'apres l'énoncé,au temps t = 0, un individu a une probabilité de 0.9 d’être sain et 0.1 d’être infecté.\n",
    "\n",
    "On a donc le vecteur de distribution initiale suivant: $\\pi_0 = (0.9, 0.1, 0)$"
   ]
  },
  {
   "cell_type": "markdown",
   "metadata": {},
   "source": [
    "## Distribution $π_t$\n",
    "\n",
    "## Question 1\n",
    "\n",
    "On suppose que la chaîne de Markov est homogène. On a donc:\\\n",
    "$\\pi_t$ = $\\pi_{t-1} * A$\\\n",
    "\\\n",
    "$\\pi_1 = \\pi_0 * A = (0.828, 0.165, 0.007)$\n",
    "\n",
    "## Question 2\n",
    "\n",
    "$\\pi_2 = \\pi_1 * A = (0.76176, 0.21969, 0.01855)$\n"
   ]
  },
  {
   "cell_type": "markdown",
   "metadata": {},
   "source": [
    "## Question 3\n",
    "\n",
    "$\\pi_{t+1} = \\pi_t * A$"
   ]
  },
  {
   "cell_type": "code",
   "execution_count": 22,
   "metadata": {},
   "outputs": [
    {
     "data": {
      "image/png": "[encoded data removed]",
      "text/plain": [
       "<Figure size 432x288 with 1 Axes>"
      ]
     },
     "metadata": {
      "needs_background": "light"
     },
     "output_type": "display_data"
    }
   ],
   "source": [
    "pi_0 = np.array([0.9, 0.1, 0])\n",
    "A = np.array([[0.92, 0.08, 0],[0, 0.93, 0.07],[0, 0, 1]])\n",
    "pi_liste = [pi_0]\n",
    "\n",
    "for i in range(0, 200):\n",
    "    pi_0 = np.dot(pi_0, A)\n",
    "    pi_liste.append(pi_0)\n",
    "    \n",
    "plt.plot(pi_liste)\n",
    "plt.legend(('etat S','etat I','etat R'))\n",
    "plt.xlabel('temps')\n",
    "plt.ylabel('probabilité')\n",
    "plt.show()"
   ]
  },
  {
   "cell_type": "markdown",
   "metadata": {},
   "source": [
    "D'après le graphique, on voit que le nombre de personnes infectées atteint un maximum à environ 10 jours. A 100 jours, la probabilité d'être guéri tend vers 1 (donc tout le monde est guéri), et la probabilité d'être infecté ou sain tend vers 0 (donc personne n'est infecté)."
   ]
  },
  {
   "cell_type": "markdown",
   "metadata": {},
   "source": [
    "## Tirage aléatoire des états"
   ]
  },
  {
   "cell_type": "code",
   "execution_count": 25,
   "metadata": {},
   "outputs": [],
   "source": [
    "def genere_seq_alea(matrice,pi_0,T):\n",
    "    t0 = rd.random()\n",
    "    if t0 < pi_0[0] :\n",
    "        t0 = 0\n",
    "    else:\n",
    "        t0 = 1\n",
    "    sequence=[t0]\n",
    "    \n",
    "    for i in range(0,T+1):\n",
    "        etat_precedent=sequence[i-1]\n",
    "        proba=matrice[etat_precedent]\n",
    "        etat_present=rd.random()\n",
    "        \n",
    "        if etat_present < proba[0]:\n",
    "            sequence.append(0)\n",
    "        elif etat_present < proba[0] + proba[1]:\n",
    "            sequence.append(1)\n",
    "        else:\n",
    "            sequence.append(2)\n",
    "            \n",
    "    return sequence"
   ]
  },
  {
   "cell_type": "code",
   "execution_count": 30,
   "metadata": {},
   "outputs": [
    {
     "name": "stdout",
     "output_type": "stream",
     "text": [
      "[1, 1, 1, 1, 1, 1, 1, 1, 1, 1, 1, 1, 1, 1, 1, 1, 1, 1, 1, 1, 1, 1, 1, 1, 1, 1, 1, 1, 1, 1, 1, 1, 1, 1, 1, 1, 1, 1, 1, 1, 1, 1, 2, 1, 2, 1, 2, 1, 2, 1, 2, 1, 2, 1, 2, 1, 2, 1, 2, 1, 2, 1, 2, 1, 2, 1, 2, 1, 2, 1, 2, 1, 2, 1, 2, 1, 2, 1, 2, 1, 2, 1, 2, 1, 2, 1, 2, 1, 2, 1, 2, 2, 2, 2, 2, 2, 2, 2, 2, 2, 2, 2, 2, 2, 2, 2, 2, 2, 2, 2, 2, 2, 2, 2, 2, 2, 2, 2, 2, 2, 2, 2, 2, 2, 2, 2, 2, 2, 2, 2, 2, 2, 2, 2, 2, 2, 2, 2, 2, 2, 2, 2, 2, 2, 2, 2, 2, 2, 2, 2, 2, 2]\n"
     ]
    }
   ],
   "source": [
    "etats={0:\"S\",1:\"I\",2:\"R\"}\n",
    "sequence = genere_seq_alea(A,pi_0,150)\n",
    "print(sequence)\n",
    "#for state in sequence:\n",
    " #   print(etats[state])"
   ]
  },
  {
   "cell_type": "code",
   "execution_count": null,
   "metadata": {},
   "outputs": [],
   "source": []
  },
  {
   "cell_type": "code",
   "execution_count": null,
   "metadata": {},
   "outputs": [],
   "source": []
  }
 ],
 "metadata": {
  "kernelspec": {
   "display_name": "Python 3",
   "language": "python",
   "name": "python3"
  },
  "language_info": {
   "codemirror_mode": {
    "name": "ipython",
    "version": 3
   },
   "file_extension": ".py",
   "mimetype": "text/x-python",
   "name": "python",
   "nbconvert_exporter": "python",
   "pygments_lexer": "ipython3",
   "version": "3.10.5 (tags/v3.10.5:f377153, Jun  6 2022, 16:14:13) [MSC v.1929 64 bit (AMD64)]"
  },
  "vscode": {
   "interpreter": {
    "hash": "369f2c481f4da34e4445cda3fffd2e751bd1c4d706f27375911949ba6bb62e1c"
   }
  }
 },
 "nbformat": 4,
 "nbformat_minor": 5
}
